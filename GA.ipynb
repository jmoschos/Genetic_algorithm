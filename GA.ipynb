{
 "cells": [
  {
   "cell_type": "markdown",
   "metadata": {},
   "source": [
    "## Genetic algorithm for FLP and LRP"
   ]
  },
  {
   "cell_type": "markdown",
   "metadata": {},
   "source": [
    "This algorithm aims to utilize hybrid characteristics to solve the Facility location problem and its extention the location routing problem. The routing component is optional in the algorithm."
   ]
  },
  {
   "cell_type": "code",
   "execution_count": 63,
   "metadata": {},
   "outputs": [],
   "source": [
    "### Library import\n",
    "\n",
    "import numpy as np\n",
    "import pandas as pd\n",
    "import math\n",
    "import random"
   ]
  },
  {
   "cell_type": "code",
   "execution_count": 64,
   "metadata": {},
   "outputs": [],
   "source": [
    "### Data import\n",
    "\n",
    "filename = \"instance287.txt\"\n",
    "\n",
    "with open(filename) as f:\n",
    "    lines = f.readlines()\n",
    "    NoCustomers = int(lines[0])\n",
    "    X = []\n",
    "    Y = []\n",
    "    Dem = []\n",
    "    for i in lines[1:]:\n",
    "        X.append(float(i.split()[0]))\n",
    "        Y.append(float(i.split()[1]))\n",
    "        Dem.append(float(i.split()[2]))\n",
    "\n",
    "        \n",
    "Xcord = np.asarray(X).reshape(NoCustomers,1)\n",
    "Ycord = np.asarray(Y).reshape(NoCustomers,1)\n",
    "Demand = np.asarray(Dem).reshape(NoCustomers,1)\n"
   ]
  },
  {
   "cell_type": "code",
   "execution_count": 65,
   "metadata": {},
   "outputs": [],
   "source": [
    "### Model parameters\n",
    "\n",
    "NoFacil = 5\n",
    "NoChromo = 300\n",
    "\n",
    "\n",
    "\n"
   ]
  },
  {
   "cell_type": "code",
   "execution_count": 66,
   "metadata": {},
   "outputs": [],
   "source": [
    "np.random.seed(100)\n",
    "ChromoX = np.random.rand(NoChromo,NoFacil)*100\n",
    "np.random.seed(120)\n",
    "ChromoY = np.random.rand(NoChromo,NoFacil)*100\n",
    "\n",
    "#print(ChromoX)\n",
    "#print(\"...\")\n",
    "#print(ChromoY)"
   ]
  },
  {
   "cell_type": "code",
   "execution_count": 67,
   "metadata": {},
   "outputs": [],
   "source": [
    "def get_Dist(X1,Y1,X2,Y2):\n",
    "    return math.sqrt(math.pow(X1-X2,2)+math.pow(Y1-Y2,2))"
   ]
  },
  {
   "cell_type": "code",
   "execution_count": 68,
   "metadata": {},
   "outputs": [],
   "source": [
    "def Facil_distance(Xcord,Ycord,ChromoX,ChromoY,NoCustomers):\n",
    "    \n",
    "    d = np.zeros((NoCustomers))\n",
    "    for j in range(NoCustomers):\n",
    "        d[j] = get_Dist(ChromoX,ChromoY,Xcord[j],Ycord[j])\n",
    "    \n",
    "    return d"
   ]
  },
  {
   "cell_type": "code",
   "execution_count": 69,
   "metadata": {},
   "outputs": [],
   "source": [
    "def Evaluation(Xcord, Ycord,Dem,ChromoX,ChromoY,NoCustomers,NoFacil,NoChromo):\n",
    "    \n",
    "    print(NoChromo)\n",
    "    result =np.zeros((NoChromo))\n",
    "    for i in range(NoChromo):\n",
    "        d = np.zeros((NoCustomers,NoFacil))\n",
    "        proximity = np.zeros((NoCustomers))\n",
    "        for j in range(NoFacil):\n",
    "            print(ChromoY[i,j])\n",
    "            d[:,j]=Facil_distance(Xcord,Ycord,ChromoX[i,j],ChromoY[i,j],NoCustomers)\n",
    "    \n",
    "        result[i]=(np.sum(np.multiply(d.min(axis = 1),Dem.T)))\n",
    "        proximity=(d.argmin(axis=1))\n",
    "    \n",
    "    \n",
    "    \n",
    "    return result"
   ]
  },
  {
   "cell_type": "code",
   "execution_count": 70,
   "metadata": {},
   "outputs": [],
   "source": [
    "def Weiszfeld(Xcord,Ycord,Xcenter,Ycenter,NoCustomers,Dem):\n",
    "    \n",
    "    improv = 1 \n",
    "    epsilon = 10**(-12)\n",
    "    \n",
    "    \n",
    "    Cost = (np.sum(np.multiply(Facil_distance(Xcord,Ycord,Xcenter,Ycenter,NoCustomers),Dem.T)))\n",
    "    \n",
    "    while (improv>epsilon):\n",
    "        \n",
    "        x = 0\n",
    "        y = 0\n",
    "        W = 0\n",
    "        d = np.zeros((NoCustomers))\n",
    "        for j in range(NoCustomers):\n",
    "            d[j] = get_Dist(Xcenter,Ycenter,Xcord[j],Ycord[j])\n",
    "            if (d[j]!=0):\n",
    "                w = (1/d[j])*(1/Dem[j])\n",
    "                x = x+Xcord[j]*w\n",
    "                y = y+Ycord[j]*w\n",
    "                W = W +w\n",
    "        \n",
    "        if (W!=0):\n",
    "            X = x/W\n",
    "            Y = y/W\n",
    "        else:\n",
    "            X = x\n",
    "            Y=y\n",
    "        New_Cost = (np.sum(np.multiply(Facil_distance(Xcord,Ycord,X,Y,NoCustomers),Dem.T)))\n",
    "        improv = Cost - New_Cost\n",
    "        if (improv>epsilon):\n",
    "            Cost = New_Cost\n",
    "            Xcenter = X\n",
    "            Ycenter = Y\n",
    "    \n",
    "    return Xcenter,Ycenter\n",
    "    "
   ]
  },
  {
   "cell_type": "code",
   "execution_count": 72,
   "metadata": {},
   "outputs": [],
   "source": [
    "def Cooper_Algorithm(Xcord,Ycord,ChromoX,ChromoY,NoCustomers,NoFacil,Dem):\n",
    "    \n",
    "    epsilon = 10**-5\n",
    "    improvement = 1\n",
    "    d = np.zeros((NoCustomers,NoFacil))\n",
    "    proximity = np.zeros((NoCustomers))\n",
    "    for i in range(NoFacil):\n",
    "        d[:,i]=Facil_distance(Xcord,Ycord,ChromoX[i],ChromoY[i],NoCustomers)\n",
    "        \n",
    "    Cost=(np.sum(np.multiply(d.min(axis = 1),Dem.T)))\n",
    "    proximity=(d.argmin(axis=1))\n",
    "    \n",
    "    tmpX = np.copy(ChromoX)\n",
    "    tmpY = np.copy(ChromoY)\n",
    "\n",
    "\n",
    "    while (improvement>epsilon):\n",
    "        \n",
    "        for j in range(NoFacil):\n",
    "            #print(tmpX[j],tmpY[j])\n",
    "            tmpX[j],tmpY[j] = Weiszfeld(Xcord[proximity==j],Ycord[proximity==j],tmpX[j],tmpY[j],sum(proximity==j),Dem[proximity==j])\n",
    "            #print(tmpX[j],tmpY[j])\n",
    "        \n",
    "        d = np.zeros((NoCustomers,NoFacil))\n",
    "        proximity = np.zeros((NoCustomers))\n",
    "        for i in range(NoFacil):\n",
    "            d[:,i]=Facil_distance(Xcord,Ycord,tmpX[i],tmpY[i],NoCustomers)\n",
    "        \n",
    "        New_Cost=(np.sum(np.multiply(d.min(axis = 1),Dem.T)))\n",
    "        proximity=(d.argmin(axis=1))\n",
    "        improvement = Cost - New_Cost\n",
    "        Cost=New_Cost\n",
    "\n",
    "    return Cost, tmpX,tmpY\n",
    "    \n",
    "    \n",
    "    \n",
    "    \n",
    "    \n",
    "    \n",
    "    "
   ]
  },
  {
   "cell_type": "code",
   "execution_count": 74,
   "metadata": {},
   "outputs": [],
   "source": [
    "z1,z2,z3 = Cooper_Algorithm(Xcord,Ycord,ChromoX[0],ChromoY[0],NoCustomers,NoFacil,Demand)\n"
   ]
  },
  {
   "cell_type": "code",
   "execution_count": null,
   "metadata": {},
   "outputs": [],
   "source": [
    "def Cooper_Evaluation(Xcord, Ycord,Dem,ChromoX,ChromoY,NoCustomers,NoFacil,NoChromo):\n",
    "    \n",
    "    \n",
    "    result =np.zeros((NoChromo))\n",
    "    for i in range(NoChromo):\n",
    "        d = np.zeros((NoCustomers,NoFacil))\n",
    "        proximity = np.zeros((NoCustomers))\n",
    "        for j in range(NoFacil):\n",
    "            d[:,j]=Facil_distance(Xcord,Ycord,ChromoX[i,j],ChromoY[i,j],NoCustomers)\n",
    "    \n",
    "        proximity=(d.argmin(axis=1))\n",
    "        \n",
    "        \n",
    "        \n",
    "        \n",
    "        \n",
    "        \n",
    "        ### Lots missing here add\n",
    "        \n",
    "        \n",
    "        \n",
    "        \n",
    "        \n",
    "        \n",
    "        \n",
    "        \n",
    "        \n",
    "        \n",
    "    \n",
    "    \n",
    "    return result"
   ]
  },
  {
   "cell_type": "code",
   "execution_count": null,
   "metadata": {},
   "outputs": [],
   "source": []
  },
  {
   "cell_type": "code",
   "execution_count": null,
   "metadata": {},
   "outputs": [],
   "source": []
  },
  {
   "cell_type": "code",
   "execution_count": null,
   "metadata": {},
   "outputs": [],
   "source": []
  },
  {
   "cell_type": "code",
   "execution_count": null,
   "metadata": {},
   "outputs": [],
   "source": []
  }
 ],
 "metadata": {
  "kernelspec": {
   "display_name": "Python 3",
   "language": "python",
   "name": "python3"
  },
  "language_info": {
   "codemirror_mode": {
    "name": "ipython",
    "version": 3
   },
   "file_extension": ".py",
   "mimetype": "text/x-python",
   "name": "python",
   "nbconvert_exporter": "python",
   "pygments_lexer": "ipython3",
   "version": "3.6.5"
  },
  "varInspector": {
   "cols": {
    "lenName": 16,
    "lenType": 16,
    "lenVar": 40
   },
   "kernels_config": {
    "python": {
     "delete_cmd_postfix": "",
     "delete_cmd_prefix": "del ",
     "library": "var_list.py",
     "varRefreshCmd": "print(var_dic_list())"
    },
    "r": {
     "delete_cmd_postfix": ") ",
     "delete_cmd_prefix": "rm(",
     "library": "var_list.r",
     "varRefreshCmd": "cat(var_dic_list()) "
    }
   },
   "types_to_exclude": [
    "module",
    "function",
    "builtin_function_or_method",
    "instance",
    "_Feature"
   ],
   "window_display": false
  }
 },
 "nbformat": 4,
 "nbformat_minor": 4
}
