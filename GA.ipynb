{
 "cells": [
  {
   "cell_type": "markdown",
   "metadata": {},
   "source": [
    "## Genetic algorithm for FLP and LRP"
   ]
  },
  {
   "cell_type": "markdown",
   "metadata": {},
   "source": [
    "This algorithm aims to utilize hybrid characteristics to solve the Facility location problem and its extention the location routing problem. The routing component is optional in the algorithm."
   ]
  },
  {
   "cell_type": "code",
   "execution_count": null,
   "metadata": {},
   "outputs": [],
   "source": [
    "### Library import\n",
    "\n",
    "import numpy as np\n",
    "import pandas as pd\n",
    "import math\n",
    "import random\n",
    "import matplotlib.pyplot as plt\n",
    "import time"
   ]
  },
  {
   "cell_type": "code",
   "execution_count": null,
   "metadata": {},
   "outputs": [],
   "source": [
    "### Data import\n",
    "\n",
    "filename = \"instance1060.txt\"\n",
    "\n",
    "with open(filename) as f:\n",
    "    lines = f.readlines()\n",
    "    NoCustomers = int(lines[0])\n",
    "    X = []\n",
    "    Y = []\n",
    "    Dem = []\n",
    "    for i in lines[1:]:\n",
    "        X.append(float(i.split()[0]))\n",
    "        Y.append(float(i.split()[1]))\n",
    "        Dem.append(float(i.split()[2]))\n",
    "\n",
    "        \n",
    "Xcord = np.asarray(X).reshape(NoCustomers,1)\n",
    "Ycord = np.asarray(Y).reshape(NoCustomers,1)\n",
    "Demand = np.asarray(Dem).reshape(NoCustomers,1)\n"
   ]
  },
  {
   "cell_type": "code",
   "execution_count": null,
   "metadata": {},
   "outputs": [],
   "source": [
    "### Model parameters\n",
    "\n",
    "NoFacil = 10\n",
    "NoChromo = 70\n",
    "NoCross = round(0.33*NoChromo)\n",
    "NoMut = round(0.33*NoChromo)\n",
    "NoRem = NoChromo-NoCross-NoMut\n",
    "mutRate = 0.1 ##Mutation rate == How many chromosomes are mutated\n",
    "numbMut = 2 ## Genes to be mutated in each mutated chromosome\n",
    "NumberIter = 100"
   ]
  },
  {
   "cell_type": "code",
   "execution_count": null,
   "metadata": {},
   "outputs": [],
   "source": [
    "np.random.seed(100)\n",
    "ChromoX = np.random.rand(NoChromo,NoFacil)*(max(Xcord)-min(Xcord))\n",
    "np.random.seed(120)\n",
    "ChromoY = np.random.rand(NoChromo,NoFacil)*(max(Ycord)-min(Ycord))\n",
    "\n",
    "#print(ChromoX)\n",
    "#print(\"...\")\n",
    "#print(ChromoY)"
   ]
  },
  {
   "cell_type": "code",
   "execution_count": null,
   "metadata": {},
   "outputs": [],
   "source": [
    "def get_Dist(X1,Y1,X2,Y2):\n",
    "    return math.sqrt(math.pow(X1-X2,2)+math.pow(Y1-Y2,2))"
   ]
  },
  {
   "cell_type": "code",
   "execution_count": null,
   "metadata": {},
   "outputs": [],
   "source": [
    "def Facil_distance(Xcord,Ycord,ChromoX,ChromoY,NoCustomers):\n",
    "    \n",
    "    d = np.zeros((NoCustomers))\n",
    "    for j in range(NoCustomers):\n",
    "        d[j] = get_Dist(ChromoX,ChromoY,Xcord[j],Ycord[j])\n",
    "    \n",
    "    return d"
   ]
  },
  {
   "cell_type": "code",
   "execution_count": null,
   "metadata": {},
   "outputs": [],
   "source": [
    "def Evaluation(Xcord, Ycord,Dem,ChromoX,ChromoY,NoCustomers,NoFacil,NoChromo):\n",
    "    \n",
    "    result =np.zeros((NoChromo))\n",
    "    for i in range(NoChromo):\n",
    "        d = np.zeros((NoCustomers,NoFacil))\n",
    "        proximity = np.zeros((NoCustomers))\n",
    "        \n",
    "        for j in range(NoFacil):\n",
    "            A =np.array((Xcord,Ycord))\n",
    "            B = np.array((ChromoX[i,j],ChromoY[i,j]))\n",
    "            A = np.reshape(A,(2,NoCustomers))\n",
    "            B = np.reshape(B,(2,1))\n",
    "            d[:,j]=np.linalg.norm((A-B),axis=0)\n",
    "                \n",
    "                #Facil_distance(Xcord,Ycord,ChromoX[i,j],ChromoY[i,j],NoCustomers)\n",
    "        \n",
    "        result[i]=(np.sum(np.multiply(d.min(axis = 1),Dem.T)))\n",
    "        proximity=(d.argmin(axis=1))\n",
    "\n",
    "    return result"
   ]
  },
  {
   "cell_type": "code",
   "execution_count": null,
   "metadata": {},
   "outputs": [],
   "source": [
    "def Weiszfeld(Xcord,Ycord,Xcenter,Ycenter,NoCustomers,Dem):\n",
    "    \n",
    "    improv = 1 \n",
    "    epsilon = 10**(-2)\n",
    "    itermax = 5\n",
    "    \n",
    "    Cost = (np.sum(np.multiply(Facil_distance(Xcord,Ycord,Xcenter,Ycenter,NoCustomers),Dem.T)))\n",
    "    iterat = 0\n",
    "    while ((improv>epsilon) and (iterat <itermax)):\n",
    "        iterat=iterat+1\n",
    "        x = 0\n",
    "        y = 0\n",
    "        W = 0\n",
    "        d = np.zeros((NoCustomers))\n",
    "        for j in range(NoCustomers):\n",
    "            d[j] = get_Dist(Xcenter,Ycenter,Xcord[j],Ycord[j])\n",
    "            if (d[j]!=0):\n",
    "                w = (1/d[j])*(1/Dem[j])\n",
    "                x = x+Xcord[j]*w\n",
    "                y = y+Ycord[j]*w\n",
    "                W = W +w\n",
    "        \n",
    "        if (W!=0):\n",
    "            X = x/W\n",
    "            Y = y/W\n",
    "        else:\n",
    "            X = x\n",
    "            Y=y\n",
    "        New_Cost = (np.sum(np.multiply(Facil_distance(Xcord,Ycord,X,Y,NoCustomers),Dem.T)))\n",
    "        improv = Cost - New_Cost\n",
    "        if (improv>epsilon):\n",
    "            Cost = New_Cost\n",
    "            Xcenter = X\n",
    "            Ycenter = Y\n",
    "    \n",
    "    return Xcenter,Ycenter\n",
    "    "
   ]
  },
  {
   "cell_type": "code",
   "execution_count": null,
   "metadata": {},
   "outputs": [],
   "source": [
    "def Cooper_Algorithm(Xcord,Ycord,ChromoX,ChromoY,NoCustomers,NoFacil,Dem):\n",
    "    \n",
    "    epsilon = 10**-2\n",
    "    improvement = 1\n",
    "    d = np.zeros((NoCustomers,NoFacil))\n",
    "    proximity = np.zeros((NoCustomers))\n",
    "\n",
    "    for i in range(NoFacil):\n",
    "            A =np.array((Xcord,Ycord))\n",
    "            B = np.array((ChromoX[i],ChromoY[i]))\n",
    "            A = np.reshape(A,(2,NoCustomers))\n",
    "            B = np.reshape(B,(2,1))\n",
    "            d[:,i]=np.linalg.norm((A-B),axis=0)\n",
    "                \n",
    "        \n",
    "    Cost=(np.sum(np.multiply(d.min(axis = 1),Dem.T)))\n",
    "    proximity=(d.argmin(axis=1))\n",
    "    \n",
    "    tmpX = np.copy(ChromoX)\n",
    "    tmpY = np.copy(ChromoY)\n",
    "\n",
    "\n",
    "    while (improvement>epsilon):\n",
    "        \n",
    "        for j in range(NoFacil):\n",
    "            #print(tmpX[j],tmpY[j])\n",
    "            tmpX[j],tmpY[j] = Weiszfeld(Xcord[proximity==j],Ycord[proximity==j],tmpX[j],tmpY[j],sum(proximity==j),Dem[proximity==j])\n",
    "            #print(tmpX[j],tmpY[j])\n",
    "        \n",
    "        d = np.zeros((NoCustomers,NoFacil))\n",
    "        proximity = np.zeros((NoCustomers))\n",
    "        for i in range(NoFacil):\n",
    "            A =np.array((Xcord,Ycord))\n",
    "            B = np.array((ChromoX[i],ChromoY[i]))\n",
    "            A = np.reshape(A,(2,NoCustomers))\n",
    "            B = np.reshape(B,(2,1))\n",
    "            d[:,i]=np.linalg.norm((A-B),axis=0)\n",
    "        \n",
    "        New_Cost=(np.sum(np.multiply(d.min(axis = 1),Dem.T)))\n",
    "        proximity=(d.argmin(axis=1))\n",
    "        improvement = Cost - New_Cost\n",
    "        Cost=New_Cost\n",
    "\n",
    "    return Cost, tmpX,tmpY"
   ]
  },
  {
   "cell_type": "code",
   "execution_count": null,
   "metadata": {},
   "outputs": [],
   "source": [
    "def Cooper_Evaluation(Xcord, Ycord,Dem,ChromoX,ChromoY,NoCustomers,NoFacil,NoChromo):\n",
    "    \n",
    "    \n",
    "    \n",
    "    z1 = np.zeros((NoChromo))\n",
    "    tmpX = np.copy(ChromoX)\n",
    "    tmpY = np.copy(ChromoY)\n",
    "    \n",
    "    t0 = time.time()\n",
    "    for i in range(NoChromo):\n",
    "        z1[i],tmpX[i],tmpY[i] = Cooper_Algorithm(Xcord,Ycord,ChromoX[i],ChromoY[i],NoCustomers,NoFacil,Demand)\n",
    "        #if i % 10 ==0:\n",
    "         #   print(i)\n",
    "            \n",
    "    t1 = time.time()  \n",
    "    #print(t1-t0)\n",
    "    return z1,tmpX,tmpY"
   ]
  },
  {
   "cell_type": "code",
   "execution_count": null,
   "metadata": {},
   "outputs": [],
   "source": [
    "def SimpleCrossover(Xcord, Ycord,Dem,ChromoX,ChromoY,NoCustomers,NoFacil,NoChromo,NoCross):\n",
    "    \n",
    "    \n",
    "    CrossX = np.zeros((NoCross,ChromoX.shape[1]))\n",
    "    CrossY = np.zeros((NoCross,ChromoY.shape[1]))\n",
    "    \n",
    "    \n",
    "    for i in range(NoCross):\n",
    "        chromo1 = random.randint(0,NoChromo-1)                         ## First parent\n",
    "        chromo2 = random.randint(0,NoChromo-1)                         ## Second parent\n",
    " \n",
    "        cut = random.randint(0,NoFacil-1)                              ##Cut-off point\n",
    "\n",
    "        CrossX[i,0:cut] = np.copy(ChromoX[chromo1,0:cut])\n",
    "        CrossX[i,cut:] = np.copy(ChromoX[chromo2,cut:])\n",
    "    \n",
    "        CrossY[i,0:cut] = np.copy(ChromoY[chromo1,0:cut])\n",
    "        CrossY[i,cut:] = np.copy(ChromoY[chromo2,cut:])\n",
    "        \n",
    "    return CrossX, CrossY"
   ]
  },
  {
   "cell_type": "code",
   "execution_count": null,
   "metadata": {},
   "outputs": [],
   "source": [
    "def SimpleMutation(Xcord, Ycord,Dem,ChromoX,ChromoY,NoCustomers,NoFacil,NoChromo,NoMut, mutRate, numbMut):\n",
    "    \n",
    "    \n",
    "    mutX = np.zeros((NoMut,ChromoX.shape[1]))\n",
    "    mutY = np.zeros((NoMut,ChromoY.shape[1]))\n",
    "\n",
    "    \n",
    "    for i in range(NoMut):\n",
    "        chromo = random.randint(0,NoChromo-1)                         ## hromosome to be mutated\n",
    "        mutX[i,:]=np.copy(ChromoX[chromo,:])\n",
    "        mutY[i,:]=np.copy(ChromoY[chromo,:])\n",
    "        \n",
    "        genes = (random.sample(range(0, NoFacil-1), numbMut))\n",
    "        for j in (genes):\n",
    "            mutX[i,j] = np.random.rand()*(max(Xcord)-min(Xcord))\n",
    "            mutY[i,j] = np.random.rand()*(max(Ycord)-min(Ycord))\n",
    "\n",
    "    return mutX, mutY"
   ]
  },
  {
   "cell_type": "code",
   "execution_count": null,
   "metadata": {},
   "outputs": [],
   "source": [
    "def SimpleSurvival(ChromoX,ChromoY,fitness, NoRem):\n",
    "    beta = 4    ## Hyperparameter\n",
    "\n",
    "    RemX = np.zeros((NoRem,ChromoX.shape[1]))\n",
    "    RemY = np.zeros((NoRem,ChromoY.shape[1]))\n",
    "    CumFit = np.zeros((fitness.shape))\n",
    "    \n",
    "    Rev = np.exp(-(beta)*fitness/max(fitness))\n",
    "    Tot = np.sum(Rev)\n",
    "    indiv = Rev/Tot\n",
    "    \n",
    "    for i in range(len(fitness)):\n",
    "        if i!=0:\n",
    "            CumFit[i]=CumFit[i-1]+indiv[i]\n",
    "        else:\n",
    "            CumFit[i]=indiv[i]\n",
    "            \n",
    "            \n",
    "    RemX[0,:] = np.copy(ChromoX[np.argmin(fitness)])\n",
    "    RemY[0,:] = np.copy(ChromoY[np.argmin(fitness)])\n",
    "    for j in range(1,NoRem):\n",
    "        ind = np.random.rand()\n",
    "        count = 0\n",
    "        if ind<= CumFit[count]:\n",
    "            RemX[j,:] = np.copy(ChromoX[count])\n",
    "            RemY[j,:] = np.copy(ChromoY[count])\n",
    "        else:\n",
    "            while (ind>CumFit[count]):\n",
    "                if (ind<=CumFit[count+1]):\n",
    "                    RemX[j,:] = np.copy(ChromoX[count+1])\n",
    "                    RemY[j,:] = np.copy(ChromoY[count])\n",
    "                count = count+1\n",
    "        \n",
    "    \n",
    "    return RemX,RemY       "
   ]
  },
  {
   "cell_type": "code",
   "execution_count": null,
   "metadata": {},
   "outputs": [],
   "source": [
    "\n",
    "\n",
    "ChromoX = np.random.rand(NoChromo,NoFacil)*(max(Xcord)-min(Xcord))\n",
    "ChromoY = np.random.rand(NoChromo,NoFacil)*(max(Ycord)-min(Ycord))\n",
    "\n",
    "MinCost = np.zeros((NumberIter))\n",
    "for it in range(NumberIter):\n",
    "    \n",
    "    print(100*it/NumberIter)\n",
    "\n",
    "    ##Evaluation\n",
    "    #Cost = Evaluation1(Xcord,Ycord,Demand,ChromoX,ChromoY,NoCustomers,NoFacil,NoChromo)\n",
    "    Cost,ChromoX,ChromoY=Cooper_Evaluation(Xcord, Ycord,Dem,ChromoX,ChromoY,NoCustomers,NoFacil,NoChromo)\n",
    "    MinCost[it]=(np.min(Cost))\n",
    "\n",
    "    \n",
    "    \n",
    "    ##Crossover\n",
    "    CrossX = np.zeros((NoCross,ChromoX.shape[1]))\n",
    "    CrossY = np.zeros((NoCross,ChromoY.shape[1]))\n",
    "\n",
    "    CrossX,CrossY = SimpleCrossover(Xcord,Ycord,Demand,ChromoX,ChromoY,NoCustomers,NoFacil,NoChromo,NoCross)\n",
    "\n",
    "    \n",
    "    ## Mutation\n",
    "    mutX = np.zeros((NoMut,ChromoX.shape[1]))\n",
    "    mutY = np.zeros((NoMut,ChromoY.shape[1]))\n",
    "\n",
    "    mutX,mutY =SimpleMutation(Xcord,Ycord,Demand,ChromoX,ChromoY,NoCustomers,NoFacil,NoChromo,NoMut,mutRate,numbMut)\n",
    "    \n",
    "    \n",
    "    ## Survival\n",
    "    remX = np.zeros((NoRem,ChromoX.shape[1]))\n",
    "    remY = np.zeros((NoRem,ChromoY.shape[1]))\n",
    "    \n",
    "\n",
    "\n",
    "    remX,remY = SimpleSurvival(ChromoX,ChromoY,Cost,NoRem)\n",
    "    \n",
    "    ChromoX[0:NoCross,:] = np.copy(CrossX[:,:])\n",
    "    ChromoX[NoCross:NoCross+NoMut,:]=np.copy(mutX[:,:])\n",
    "    ChromoX[NoCross+NoMut:,:]=np.copy(remX[:,:])\n",
    "    \n",
    "\n",
    "    ChromoY[0:NoCross,:] = np.copy(CrossY[:,:])\n",
    "    ChromoY[NoCross:NoCross+NoMut,:]=np.copy(mutY[:,:])\n",
    "    ChromoY[NoCross+NoMut:,:]=np.copy(remY[:,:])\n",
    "\n",
    "\n",
    "\n",
    "\n",
    "\n",
    "\n"
   ]
  },
  {
   "cell_type": "code",
   "execution_count": null,
   "metadata": {},
   "outputs": [],
   "source": [
    "print(MinCost)"
   ]
  },
  {
   "cell_type": "code",
   "execution_count": null,
   "metadata": {},
   "outputs": [],
   "source": [
    "plt.plot(MinCost)"
   ]
  },
  {
   "cell_type": "code",
   "execution_count": null,
   "metadata": {},
   "outputs": [],
   "source": []
  },
  {
   "cell_type": "code",
   "execution_count": null,
   "metadata": {},
   "outputs": [],
   "source": []
  },
  {
   "cell_type": "code",
   "execution_count": null,
   "metadata": {},
   "outputs": [],
   "source": []
  },
  {
   "cell_type": "code",
   "execution_count": null,
   "metadata": {},
   "outputs": [],
   "source": []
  },
  {
   "cell_type": "code",
   "execution_count": null,
   "metadata": {},
   "outputs": [],
   "source": []
  },
  {
   "cell_type": "code",
   "execution_count": null,
   "metadata": {},
   "outputs": [],
   "source": []
  },
  {
   "cell_type": "code",
   "execution_count": null,
   "metadata": {},
   "outputs": [],
   "source": []
  },
  {
   "cell_type": "code",
   "execution_count": null,
   "metadata": {},
   "outputs": [],
   "source": []
  },
  {
   "cell_type": "code",
   "execution_count": null,
   "metadata": {},
   "outputs": [],
   "source": []
  },
  {
   "cell_type": "code",
   "execution_count": null,
   "metadata": {},
   "outputs": [],
   "source": []
  },
  {
   "cell_type": "code",
   "execution_count": null,
   "metadata": {},
   "outputs": [],
   "source": []
  },
  {
   "cell_type": "code",
   "execution_count": null,
   "metadata": {},
   "outputs": [],
   "source": []
  },
  {
   "cell_type": "code",
   "execution_count": null,
   "metadata": {},
   "outputs": [],
   "source": []
  },
  {
   "cell_type": "code",
   "execution_count": null,
   "metadata": {},
   "outputs": [],
   "source": []
  }
 ],
 "metadata": {
  "kernelspec": {
   "display_name": "Python 3",
   "language": "python",
   "name": "python3"
  },
  "language_info": {
   "codemirror_mode": {
    "name": "ipython",
    "version": 3
   },
   "file_extension": ".py",
   "mimetype": "text/x-python",
   "name": "python",
   "nbconvert_exporter": "python",
   "pygments_lexer": "ipython3",
   "version": "3.6.5"
  },
  "varInspector": {
   "cols": {
    "lenName": 16,
    "lenType": 16,
    "lenVar": 40
   },
   "kernels_config": {
    "python": {
     "delete_cmd_postfix": "",
     "delete_cmd_prefix": "del ",
     "library": "var_list.py",
     "varRefreshCmd": "print(var_dic_list())"
    },
    "r": {
     "delete_cmd_postfix": ") ",
     "delete_cmd_prefix": "rm(",
     "library": "var_list.r",
     "varRefreshCmd": "cat(var_dic_list()) "
    }
   },
   "types_to_exclude": [
    "module",
    "function",
    "builtin_function_or_method",
    "instance",
    "_Feature"
   ],
   "window_display": false
  }
 },
 "nbformat": 4,
 "nbformat_minor": 4
}
