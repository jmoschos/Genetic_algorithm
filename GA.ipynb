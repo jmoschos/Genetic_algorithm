{
 "cells": [
  {
   "cell_type": "markdown",
   "metadata": {},
   "source": [
    "## Genetic algorithm for FLP and LRP"
   ]
  },
  {
   "cell_type": "markdown",
   "metadata": {},
   "source": [
    "This algorithm aims to utilize hybrid characteristics to solve the Facility location problem and its extention the location routing problem. The routing component is optional in the algorithm."
   ]
  },
  {
   "cell_type": "code",
   "execution_count": null,
   "metadata": {},
   "outputs": [],
   "source": [
    "### Library import\n",
    "\n",
    "import numpy as np\n",
    "import pandas as pd\n",
    "import math\n",
    "import random\n",
    "import matplotlib.pyplot as plt\n",
    "import time"
   ]
  },
  {
   "cell_type": "code",
   "execution_count": null,
   "metadata": {},
   "outputs": [],
   "source": [
    "### Data import\n",
    "\n",
    "filename = \"instance50.txt\"\n",
    "\n",
    "with open(filename) as f:\n",
    "    lines = f.readlines()\n",
    "    NoCustomers = int(lines[0])\n",
    "    X = []\n",
    "    Y = []\n",
    "    Dem = []\n",
    "    for i in lines[1:]:\n",
    "        X.append(float(i.split()[0]))\n",
    "        Y.append(float(i.split()[1]))\n",
    "        Dem.append(float(i.split()[2]))\n",
    "\n",
    "        \n",
    "Xcord = np.asarray(X).reshape(NoCustomers,1)\n",
    "Ycord = np.asarray(Y).reshape(NoCustomers,1)\n",
    "Demand = np.asarray(Dem).reshape(NoCustomers,1)\n"
   ]
  },
  {
   "cell_type": "code",
   "execution_count": null,
   "metadata": {},
   "outputs": [],
   "source": [
    "### Model parameters\n",
    "\n",
    "NoFacil = 5\n",
    "NoChromo = 30\n",
    "NoCross = round(0.33*NoChromo)\n",
    "NoMut = round(0.33*NoChromo)\n",
    "NoRem = NoChromo-NoCross-NoMut\n",
    "mutRate = 0.1 ##Mutation rate == How many chromosomes are mutated\n",
    "numbMut = 2 ## Genes to be mutated in each mutated chromosome\n",
    "NumberIter = 100"
   ]
  },
  {
   "cell_type": "code",
   "execution_count": 229,
   "metadata": {},
   "outputs": [],
   "source": [
    "np.random.seed(100)\n",
    "ChromoX = np.random.rand(NoChromo,NoFacil)*(max(Xcord)-min(Xcord))\n",
    "np.random.seed(120)\n",
    "ChromoY = np.random.rand(NoChromo,NoFacil)*(max(Ycord)-min(Ycord))\n",
    "\n",
    "#print(ChromoX)\n",
    "#print(\"...\")\n",
    "#print(ChromoY)"
   ]
  },
  {
   "cell_type": "code",
   "execution_count": null,
   "metadata": {},
   "outputs": [],
   "source": [
    "def get_Dist(X1,Y1,X2,Y2):\n",
    "    return math.sqrt(math.pow(X1-X2,2)+math.pow(Y1-Y2,2))"
   ]
  },
  {
   "cell_type": "code",
   "execution_count": null,
   "metadata": {},
   "outputs": [],
   "source": [
    "def Facil_distance(Xcord,Ycord,ChromoX,ChromoY,NoCustomers):\n",
    "    \n",
    "    d = np.zeros((NoCustomers))\n",
    "    for j in range(NoCustomers):\n",
    "        d[j] = get_Dist(ChromoX,ChromoY,Xcord[j],Ycord[j])\n",
    "    \n",
    "    return d"
   ]
  },
  {
   "cell_type": "code",
   "execution_count": null,
   "metadata": {},
   "outputs": [],
   "source": [
    "def Evaluation(Xcord, Ycord,Dem,ChromoX,ChromoY,NoCustomers,NoFacil,NoChromo):\n",
    "    \n",
    "    result =np.zeros((NoChromo))\n",
    "    for i in range(NoChromo):\n",
    "        d = np.zeros((NoCustomers,NoFacil))\n",
    "        proximity = np.zeros((NoCustomers))\n",
    "        \n",
    "        for j in range(NoFacil):\n",
    "            A =np.array((Xcord,Ycord))\n",
    "            B = np.array((ChromoX[i,j],ChromoY[i,j]))\n",
    "            A = np.reshape(A,(2,NoCustomers))\n",
    "            B = np.reshape(B,(2,1))\n",
    "            d[:,j]=np.linalg.norm((A-B),axis=0)\n",
    "                \n",
    "                #Facil_distance(Xcord,Ycord,ChromoX[i,j],ChromoY[i,j],NoCustomers)\n",
    "        \n",
    "        result[i]=(np.sum(np.multiply(d.min(axis = 1),Dem.T)))\n",
    "        proximity=(d.argmin(axis=1))\n",
    "\n",
    "    return result"
   ]
  },
  {
   "cell_type": "code",
   "execution_count": null,
   "metadata": {},
   "outputs": [],
   "source": [
    "def Weiszfeld(Xcord,Ycord,Xcenter,Ycenter,NoCustomers,Dem):\n",
    "    \n",
    "    improv = 1 \n",
    "    epsilon = 10**(-2)\n",
    "    itermax = 5\n",
    "    \n",
    "    Cost = (np.sum(np.multiply(Facil_distance(Xcord,Ycord,Xcenter,Ycenter,NoCustomers),Dem.T)))\n",
    "    iterat = 0\n",
    "    while ((improv>epsilon) and (iterat <itermax)):\n",
    "        iterat=iterat+1\n",
    "        x = 0\n",
    "        y = 0\n",
    "        W = 0\n",
    "        d = np.zeros((NoCustomers))\n",
    "        for j in range(NoCustomers):\n",
    "            d[j] = get_Dist(Xcenter,Ycenter,Xcord[j],Ycord[j])\n",
    "            if (d[j]!=0):\n",
    "                w = (1/d[j])*(1/Dem[j])\n",
    "                x = x+Xcord[j]*w\n",
    "                y = y+Ycord[j]*w\n",
    "                W = W +w\n",
    "        \n",
    "        if (W!=0):\n",
    "            X = x/W\n",
    "            Y = y/W\n",
    "        else:\n",
    "            X = x\n",
    "            Y=y\n",
    "        New_Cost = (np.sum(np.multiply(Facil_distance(Xcord,Ycord,X,Y,NoCustomers),Dem.T)))\n",
    "        improv = Cost - New_Cost\n",
    "        if (improv>epsilon):\n",
    "            Cost = New_Cost\n",
    "            Xcenter = X\n",
    "            Ycenter = Y\n",
    "    \n",
    "    return Xcenter,Ycenter\n",
    "    "
   ]
  },
  {
   "cell_type": "code",
   "execution_count": null,
   "metadata": {},
   "outputs": [],
   "source": [
    "def Cooper_Algorithm(Xcord,Ycord,ChromoX,ChromoY,NoCustomers,NoFacil,Dem):\n",
    "    \n",
    "    epsilon = 10**-2\n",
    "    improvement = 1\n",
    "    d = np.zeros((NoCustomers,NoFacil))\n",
    "    proximity = np.zeros((NoCustomers))\n",
    "\n",
    "    for i in range(NoFacil):\n",
    "            A =np.array((Xcord,Ycord))\n",
    "            B = np.array((ChromoX[i],ChromoY[i]))\n",
    "            A = np.reshape(A,(2,NoCustomers))\n",
    "            B = np.reshape(B,(2,1))\n",
    "            d[:,i]=np.linalg.norm((A-B),axis=0)\n",
    "                \n",
    "        \n",
    "    Cost=(np.sum(np.multiply(d.min(axis = 1),Dem.T)))\n",
    "    proximity=(d.argmin(axis=1))\n",
    "    \n",
    "    tmpX = np.copy(ChromoX)\n",
    "    tmpY = np.copy(ChromoY)\n",
    "\n",
    "\n",
    "    while (improvement>epsilon):\n",
    "        \n",
    "        for j in range(NoFacil):\n",
    "            #print(tmpX[j],tmpY[j])\n",
    "            tmpX[j],tmpY[j] = Weiszfeld(Xcord[proximity==j],Ycord[proximity==j],tmpX[j],tmpY[j],sum(proximity==j),Dem[proximity==j])\n",
    "            #print(tmpX[j],tmpY[j])\n",
    "        \n",
    "        d = np.zeros((NoCustomers,NoFacil))\n",
    "        proximity = np.zeros((NoCustomers))\n",
    "        for i in range(NoFacil):\n",
    "            A =np.array((Xcord,Ycord))\n",
    "            B = np.array((ChromoX[i],ChromoY[i]))\n",
    "            A = np.reshape(A,(2,NoCustomers))\n",
    "            B = np.reshape(B,(2,1))\n",
    "            d[:,i]=np.linalg.norm((A-B),axis=0)\n",
    "        \n",
    "        New_Cost=(np.sum(np.multiply(d.min(axis = 1),Dem.T)))\n",
    "        proximity=(d.argmin(axis=1))\n",
    "        improvement = Cost - New_Cost\n",
    "        Cost=New_Cost\n",
    "\n",
    "    return Cost, tmpX,tmpY"
   ]
  },
  {
   "cell_type": "code",
   "execution_count": null,
   "metadata": {},
   "outputs": [],
   "source": [
    "def Cooper_Evaluation(Xcord, Ycord,Dem,ChromoX,ChromoY,NoCustomers,NoFacil,NoChromo):\n",
    "    \n",
    "    \n",
    "    \n",
    "    z1 = np.zeros((NoChromo))\n",
    "    tmpX = np.copy(ChromoX)\n",
    "    tmpY = np.copy(ChromoY)\n",
    "    \n",
    "    t0 = time.time()\n",
    "    for i in range(NoChromo):\n",
    "        z1[i],tmpX[i],tmpY[i] = Cooper_Algorithm(Xcord,Ycord,ChromoX[i],ChromoY[i],NoCustomers,NoFacil,Demand)\n",
    "        #if i % 10 ==0:\n",
    "         #   print(i)\n",
    "            \n",
    "    t1 = time.time()  \n",
    "    #print(t1-t0)\n",
    "    return z1,tmpX,tmpY"
   ]
  },
  {
   "cell_type": "code",
   "execution_count": null,
   "metadata": {},
   "outputs": [],
   "source": [
    "def SimpleCrossover(Xcord, Ycord,Dem,ChromoX,ChromoY,NoCustomers,NoFacil,NoChromo,NoCross):\n",
    "    \n",
    "    \n",
    "    CrossX = np.zeros((NoCross,ChromoX.shape[1]))\n",
    "    CrossY = np.zeros((NoCross,ChromoY.shape[1]))\n",
    "    \n",
    "    \n",
    "    for i in range(NoCross):\n",
    "        chromo1 = random.randint(0,NoChromo-1)                         ## First parent\n",
    "        chromo2 = random.randint(0,NoChromo-1)                         ## Second parent\n",
    " \n",
    "        cut = random.randint(0,NoFacil-1)                              ##Cut-off point\n",
    "\n",
    "        CrossX[i,0:cut] = np.copy(ChromoX[chromo1,0:cut])\n",
    "        CrossX[i,cut:] = np.copy(ChromoX[chromo2,cut:])\n",
    "    \n",
    "        CrossY[i,0:cut] = np.copy(ChromoY[chromo1,0:cut])\n",
    "        CrossY[i,cut:] = np.copy(ChromoY[chromo2,cut:])\n",
    "        \n",
    "    return CrossX, CrossY"
   ]
  },
  {
   "cell_type": "code",
   "execution_count": null,
   "metadata": {},
   "outputs": [],
   "source": [
    "def SimpleMutation(Xcord, Ycord,Dem,ChromoX,ChromoY,NoCustomers,NoFacil,NoChromo,NoMut, mutRate, numbMut):\n",
    "    \n",
    "    \n",
    "    mutX = np.zeros((NoMut,ChromoX.shape[1]))\n",
    "    mutY = np.zeros((NoMut,ChromoY.shape[1]))\n",
    "\n",
    "    \n",
    "    for i in range(NoMut):\n",
    "        chromo = random.randint(0,NoChromo-1)                         ## hromosome to be mutated\n",
    "        mutX[i,:]=np.copy(ChromoX[chromo,:])\n",
    "        mutY[i,:]=np.copy(ChromoY[chromo,:])\n",
    "        \n",
    "        genes = (random.sample(range(0, NoFacil-1), numbMut))\n",
    "        for j in (genes):\n",
    "            mutX[i,j] = np.random.rand()*(max(Xcord)-min(Xcord))\n",
    "            mutY[i,j] = np.random.rand()*(max(Ycord)-min(Ycord))\n",
    "\n",
    "    return mutX, mutY"
   ]
  },
  {
   "cell_type": "code",
   "execution_count": null,
   "metadata": {},
   "outputs": [],
   "source": [
    "def SimpleSurvival(ChromoX,ChromoY,fitness, NoRem):\n",
    "    beta = 4    ## Hyperparameter\n",
    "\n",
    "    RemX = np.zeros((NoRem,ChromoX.shape[1]))\n",
    "    RemY = np.zeros((NoRem,ChromoY.shape[1]))\n",
    "    CumFit = np.zeros((fitness.shape))\n",
    "    \n",
    "    Rev = np.exp(-(beta)*fitness/max(fitness))\n",
    "    Tot = np.sum(Rev)\n",
    "    indiv = Rev/Tot\n",
    "    \n",
    "    for i in range(len(fitness)):\n",
    "        if i!=0:\n",
    "            CumFit[i]=CumFit[i-1]+indiv[i]\n",
    "        else:\n",
    "            CumFit[i]=indiv[i]\n",
    "            \n",
    "            \n",
    "    RemX[0,:] = np.copy(ChromoX[np.argmin(fitness)])\n",
    "    RemY[0,:] = np.copy(ChromoY[np.argmin(fitness)])\n",
    "    for j in range(1,NoRem):\n",
    "        ind = np.random.rand()\n",
    "        count = 0\n",
    "        if ind<= CumFit[count]:\n",
    "            RemX[j,:] = np.copy(ChromoX[count])\n",
    "            RemY[j,:] = np.copy(ChromoY[count])\n",
    "        else:\n",
    "            while (ind>CumFit[count]):\n",
    "                if (ind<=CumFit[count+1]):\n",
    "                    RemX[j,:] = np.copy(ChromoX[count+1])\n",
    "                    RemY[j,:] = np.copy(ChromoY[count])\n",
    "                count = count+1\n",
    "        \n",
    "    \n",
    "    return RemX,RemY       "
   ]
  },
  {
   "cell_type": "code",
   "execution_count": null,
   "metadata": {},
   "outputs": [],
   "source": []
  },
  {
   "cell_type": "code",
   "execution_count": null,
   "metadata": {},
   "outputs": [],
   "source": []
  },
  {
   "cell_type": "code",
   "execution_count": 263,
   "metadata": {},
   "outputs": [],
   "source": [
    "def Initialization(Xcord, Ycord,Demand, NoChromo, NoFacil, NoCustomers, k1 , k2):\n",
    "    \n",
    "    epsilon = 10**(-5)\n",
    "    Xmax = max(Xcord)\n",
    "    Xmin = min(Xcord)\n",
    "    Ymax = max(Ycord)\n",
    "    Ymin = min(Ycord)\n",
    "    \n",
    "    Wx = (Xmax-Xmin)/k1\n",
    "    Wy = (Ymax-Ymin)/k2\n",
    "    \n",
    "\n",
    "    Xgrid = np.zeros((k1+1))\n",
    "    Ygrid = np.zeros((k2+1))\n",
    "    \n",
    "    tmpx = np.zeros((NoChromo,NoFacil))\n",
    "    tmpy = np.zeros((NoChromo,NoFacil))\n",
    "    \n",
    "\n",
    "    Xgrid[0]=Xmin\n",
    "    Ygrid[0]=Ymin\n",
    "    for i in range(1,k1+1):\n",
    "        Xgrid[i] = Xgrid[i-1]+Wx\n",
    "    \n",
    "    for i in range(1,k2+1):\n",
    "        Ygrid[i]=Ygrid[i-1]+Wy\n",
    "    \n",
    "    \n",
    "    BlockDem =np.zeros((k2,k1))\n",
    "    BlockN = np.zeros((k2,k1))\n",
    "    ProbGrid = np.zeros((k2,k1))\n",
    "    \n",
    "    for i in range(k1):\n",
    "        for j in range(k2):\n",
    "            for k in range(NoCustomers):\n",
    "                if (Xcord[k]>=Xgrid[i]) and (Xcord[k]<Xgrid[i+1]+epsilon) and (Ycord[k]>=Ygrid[j]) and (Ycord[k]<Ygrid[j+1]+epsilon):\n",
    "                    BlockDem[j,i] =BlockDem[j,i]+ Demand[k]\n",
    "                    BlockN[j,i] = BlockN[j,i]+1\n",
    "    \n",
    "    for j in range(k2): \n",
    "        for i in range(k1):\n",
    "            if (i==0) and (j==0):\n",
    "                ProbGrid[j,i] = BlockN[j,i]     \n",
    "            else:\n",
    "                if (i==0):\n",
    "                    ProbGrid[j,i] = BlockN[j,i] + ProbGrid[j-1,k1-1]\n",
    "\n",
    "                else:\n",
    "                    ProbGrid[j,i]=BlockN[j,i] + ProbGrid[j,i-1]\n",
    "\n",
    "    \n",
    "    ProbGrid = ProbGrid/np.sum(NoCustomers)\n",
    "    \n",
    "\n",
    "    \n",
    "    \n",
    "    \n",
    "    for k in range(NoChromo):\n",
    "        for n in range(NoFacil):\n",
    "            r1 = np.random.rand(1)\n",
    "            indX = np.zeros((1))\n",
    "            indY = np.zeros((1))\n",
    "            for j in range(k2): \n",
    "                for i in range(k1):\n",
    "                    if i!=0:\n",
    "                        if (r1<=ProbGrid[j,i] and r1 >ProbGrid[j,i-1]):\n",
    "                            indX = i\n",
    "                            indY = j \n",
    "            \n",
    "                    else:\n",
    "                        if (r1<=ProbGrid[j,i] and r1 >ProbGrid[j-1,k1-1]):\n",
    "                            indX = i\n",
    "                            indY = j \n",
    "           \n",
    "\n",
    "            tmpx[k,n] = (Xgrid[int(indX)]+Xgrid[int(indX)+1])/2\n",
    "            tmpy[k,n] = (Ygrid[int(indY)]+Ygrid[int(indY)+1])/2\n",
    "            \n",
    "\n",
    "    return tmpx,tmpy"
   ]
  },
  {
   "cell_type": "code",
   "execution_count": 288,
   "metadata": {},
   "outputs": [
    {
     "name": "stdout",
     "output_type": "stream",
     "text": [
      "11967.848316314941 11643.487779422012\n"
     ]
    }
   ],
   "source": [
    "tmX,tmY=Initialization(Xcord,Ycord,Demand,NoChromo,NoFacil,NoCustomers,25,25)\n",
    "ChromoX = np.random.rand(NoChromo,NoFacil)*(max(Xcord)-min(Xcord))\n",
    "ChromoY = np.random.rand(NoChromo,NoFacil)*(max(Ycord)-min(Ycord))\n",
    "\n",
    "k1,_,_= Cooper_Evaluation(Xcord, Ycord,Demand,ChromoX,ChromoY,NoCustomers,NoFacil,NoChromo)\n",
    "k2,_,_= Cooper_Evaluation(Xcord, Ycord,Demand,tmX,tmY,NoCustomers,NoFacil,NoChromo)\n",
    "print(np.mean(k1),np.mean(k2))"
   ]
  },
  {
   "cell_type": "code",
   "execution_count": null,
   "metadata": {},
   "outputs": [],
   "source": []
  },
  {
   "cell_type": "code",
   "execution_count": null,
   "metadata": {},
   "outputs": [],
   "source": []
  },
  {
   "cell_type": "code",
   "execution_count": null,
   "metadata": {},
   "outputs": [],
   "source": []
  },
  {
   "cell_type": "code",
   "execution_count": null,
   "metadata": {},
   "outputs": [],
   "source": []
  },
  {
   "cell_type": "code",
   "execution_count": null,
   "metadata": {},
   "outputs": [],
   "source": []
  },
  {
   "cell_type": "code",
   "execution_count": null,
   "metadata": {},
   "outputs": [],
   "source": []
  },
  {
   "cell_type": "code",
   "execution_count": null,
   "metadata": {},
   "outputs": [],
   "source": []
  },
  {
   "cell_type": "code",
   "execution_count": 295,
   "metadata": {},
   "outputs": [],
   "source": [
    "#ChromoX = np.random.rand(NoChromo,NoFacil)*(max(Xcord)-min(Xcord))\n",
    "#ChromoY = np.random.rand(NoChromo,NoFacil)*(max(Ycord)-min(Ycord))\n",
    "\n",
    "ChromoX,ChromoY=Initialization(Xcord,Ycord,Demand,NoChromo,NoFacil,NoCustomers,25,25)\n",
    "\n",
    "MinCost = np.zeros((NumberIter))\n",
    "for it in range(NumberIter):\n",
    "    \n",
    "    #print(100*it/NumberIter, \" % \")\n",
    "    \n",
    "    ##Evaluation\n",
    "    #Cost = Evaluation1(Xcord,Ycord,Demand,ChromoX,ChromoY,NoCustomers,NoFacil,NoChromo)\n",
    "    Cost,ChromoX,ChromoY=Cooper_Evaluation(Xcord, Ycord,Dem,ChromoX,ChromoY,NoCustomers,NoFacil,NoChromo)\n",
    "    MinCost[it]=(np.min(Cost))\n",
    "\n",
    "    \n",
    "    ##Crossover\n",
    "    CrossX = np.zeros((NoCross,ChromoX.shape[1]))\n",
    "    CrossY = np.zeros((NoCross,ChromoY.shape[1]))\n",
    "\n",
    "    CrossX,CrossY = SimpleCrossover(Xcord,Ycord,Demand,ChromoX,ChromoY,NoCustomers,NoFacil,NoChromo,NoCross)\n",
    "\n",
    "    \n",
    "    ## Mutation\n",
    "    mutX = np.zeros((NoMut,ChromoX.shape[1]))\n",
    "    mutY = np.zeros((NoMut,ChromoY.shape[1]))\n",
    "\n",
    "    mutX,mutY =SimpleMutation(Xcord,Ycord,Demand,ChromoX,ChromoY,NoCustomers,NoFacil,NoChromo,NoMut,mutRate,numbMut)\n",
    "    \n",
    "    \n",
    "    ## Survival\n",
    "    remX = np.zeros((NoRem,ChromoX.shape[1]))\n",
    "    remY = np.zeros((NoRem,ChromoY.shape[1]))\n",
    "    \n",
    "\n",
    "\n",
    "    remX,remY = SimpleSurvival(ChromoX,ChromoY,Cost,NoRem)\n",
    "    \n",
    "    ChromoX[0:NoCross,:] = np.copy(CrossX[:,:])\n",
    "    ChromoX[NoCross:NoCross+NoMut,:]=np.copy(mutX[:,:])\n",
    "    ChromoX[NoCross+NoMut:,:]=np.copy(remX[:,:])\n",
    "    \n",
    "\n",
    "    ChromoY[0:NoCross,:] = np.copy(CrossY[:,:])\n",
    "    ChromoY[NoCross:NoCross+NoMut,:]=np.copy(mutY[:,:])\n",
    "    ChromoY[NoCross+NoMut:,:]=np.copy(remY[:,:])\n",
    "\n",
    "\n",
    "\n",
    "\n",
    "\n",
    "\n"
   ]
  },
  {
   "cell_type": "code",
   "execution_count": 296,
   "metadata": {},
   "outputs": [
    {
     "name": "stdout",
     "output_type": "stream",
     "text": [
      "[9574.66453366 8644.55708071 8424.41843343 8395.49994084 8394.96063635\n",
      " 8394.86803761 8394.86803761 8394.86803761 8394.86803761 8394.86803761\n",
      " 8394.86803761 8369.88564558 8292.58467944 8286.47786395 8285.56030209\n",
      " 8285.39689646 8285.3864622  8285.3864622  8285.3864622  8285.3864622\n",
      " 8285.3864622  8285.3864622  8285.3864622  8285.3864622  8285.3864622\n",
      " 8285.3864622  8285.3864622  8285.3864622  8285.3864622  8285.3864622\n",
      " 8285.3864622  8285.3864622  8285.3864622  8285.3864622  8285.3864622\n",
      " 8285.3864622  8285.3864622  8285.3864622  8285.3864622  8285.3864622\n",
      " 8285.3864622  8285.3864622  8285.3864622  8285.3864622  8285.3864622\n",
      " 8285.3864622  8285.3864622  8285.3864622  8285.3864622  8285.3864622\n",
      " 8285.3864622  8285.3864622  8285.3864622  8285.3864622  8285.3864622\n",
      " 8283.50862439 8196.44683413 8196.44683413 8196.44683413 8196.44683413\n",
      " 8196.44683413 8196.44683413 8196.44683413 8196.44683413 8196.44683413\n",
      " 8196.44683413 8196.44683413 8196.44683413 8196.44683413 8196.44683413\n",
      " 8196.44683413 8196.44683413 8196.44683413 8196.44683413 8196.44683413\n",
      " 8196.44683413 8196.44683413 8196.44683413 8159.97912096 8143.66842989\n",
      " 8143.66842989 8143.66842989 8143.66842989 8143.66842989 8143.66842989\n",
      " 8143.66842989 8143.66842989 8143.66842989 8143.66842989 8143.66842989\n",
      " 8143.66842989 8143.66842989 8143.66842989 8143.66842989 8143.66842989\n",
      " 8143.66842989 8143.66842989 8143.66842989 8143.66842989 8143.66842989]\n"
     ]
    },
    {
     "data": {
      "text/plain": [
       "[<matplotlib.lines.Line2D at 0x1c59353bb38>]"
      ]
     },
     "execution_count": 296,
     "metadata": {},
     "output_type": "execute_result"
    },
    {
     "data": {
      "image/png": "[encoded data removed]",
      "text/plain": [
       "<Figure size 432x288 with 1 Axes>"
      ]
     },
     "metadata": {
      "needs_background": "light"
     },
     "output_type": "display_data"
    }
   ],
   "source": [
    "print(MinCost)\n",
    "plt.plot(MinCost)"
   ]
  },
  {
   "cell_type": "code",
   "execution_count": null,
   "metadata": {},
   "outputs": [],
   "source": []
  }
 ],
 "metadata": {
  "kernelspec": {
   "display_name": "Python 3",
   "language": "python",
   "name": "python3"
  },
  "language_info": {
   "codemirror_mode": {
    "name": "ipython",
    "version": 3
   },
   "file_extension": ".py",
   "mimetype": "text/x-python",
   "name": "python",
   "nbconvert_exporter": "python",
   "pygments_lexer": "ipython3",
   "version": "3.6.5"
  },
  "varInspector": {
   "cols": {
    "lenName": 16,
    "lenType": 16,
    "lenVar": 40
   },
   "kernels_config": {
    "python": {
     "delete_cmd_postfix": "",
     "delete_cmd_prefix": "del ",
     "library": "var_list.py",
     "varRefreshCmd": "print(var_dic_list())"
    },
    "r": {
     "delete_cmd_postfix": ") ",
     "delete_cmd_prefix": "rm(",
     "library": "var_list.r",
     "varRefreshCmd": "cat(var_dic_list()) "
    }
   },
   "types_to_exclude": [
    "module",
    "function",
    "builtin_function_or_method",
    "instance",
    "_Feature"
   ],
   "window_display": false
  }
 },
 "nbformat": 4,
 "nbformat_minor": 4
}
