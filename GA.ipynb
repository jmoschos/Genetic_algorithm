{
 "cells": [
  {
   "cell_type": "markdown",
   "metadata": {},
   "source": [
    "## Genetic algorithm for FLP and LRP"
   ]
  },
  {
   "cell_type": "markdown",
   "metadata": {},
   "source": [
    "This algorithm aims to utilize hybrid characteristics to solve the Facility location problem and its extention the location routing problem. The routing component is optional in the algorithm."
   ]
  },
  {
   "cell_type": "code",
   "execution_count": null,
   "metadata": {
    "scrolled": true
   },
   "outputs": [],
   "source": [
    "### Library import\n",
    "\n",
    "import numpy as np\n",
    "import pandas as pd\n",
    "import math\n",
    "import random\n",
    "import matplotlib.pyplot as plt\n",
    "import time"
   ]
  },
  {
   "cell_type": "code",
   "execution_count": null,
   "metadata": {
    "scrolled": true
   },
   "outputs": [],
   "source": [
    "### Data import\n",
    "\n",
    "filename = \"instance50.txt\"\n",
    "\n",
    "with open(filename) as f:\n",
    "    lines = f.readlines()\n",
    "    NoCustomers = int(lines[0])\n",
    "    X = []\n",
    "    Y = []\n",
    "    Dem = []\n",
    "    for i in lines[1:]:\n",
    "        X.append(float(i.split()[0]))\n",
    "        Y.append(float(i.split()[1]))\n",
    "        Dem.append(float(i.split()[2]))\n",
    "\n",
    "        \n",
    "Xcord = np.asarray(X).reshape(NoCustomers,1)\n",
    "Ycord = np.asarray(Y).reshape(NoCustomers,1)\n",
    "Demand = np.asarray(Dem).reshape(NoCustomers,1)\n"
   ]
  },
  {
   "cell_type": "code",
   "execution_count": null,
   "metadata": {
    "scrolled": true
   },
   "outputs": [],
   "source": [
    "### Model parameters\n",
    "\n",
    "NoFacil = 15\n",
    "NoChromo = 60\n",
    "NoCross = round(0.33*NoChromo)\n",
    "NoMut = round(0.33*NoChromo)\n",
    "NoRem = NoChromo-NoCross-NoMut\n",
    "mutRate = 0.1 ##Mutation rate == How many chromosomes are mutated\n",
    "numbMut = 2 ## Genes to be mutated in each mutated chromosome\n",
    "NumberIter = 50\n",
    "\n",
    "\n",
    "A1 = round(0.6*NoChromo)\n",
    "A2 = round(0.3*NoChromo)\n",
    "A3 = NoChromo-A1-A2\n"
   ]
  },
  {
   "cell_type": "code",
   "execution_count": null,
   "metadata": {
    "scrolled": true
   },
   "outputs": [],
   "source": [
    "np.random.seed(100)\n",
    "ChromoX = np.random.rand(NoChromo,NoFacil)*(max(Xcord)-min(Xcord))\n",
    "np.random.seed(120)\n",
    "ChromoY = np.random.rand(NoChromo,NoFacil)*(max(Ycord)-min(Ycord))\n",
    "\n",
    "#print(ChromoX)\n",
    "#print(\"...\")\n",
    "#print(ChromoY)"
   ]
  },
  {
   "cell_type": "code",
   "execution_count": null,
   "metadata": {
    "scrolled": true
   },
   "outputs": [],
   "source": [
    "def get_Dist(X1,Y1,X2,Y2):\n",
    "    return math.sqrt(math.pow(X1-X2,2)+math.pow(Y1-Y2,2))"
   ]
  },
  {
   "cell_type": "code",
   "execution_count": null,
   "metadata": {
    "scrolled": true
   },
   "outputs": [],
   "source": [
    "def Facil_distance(Xcord,Ycord,ChromoX,ChromoY,NoCustomers):\n",
    "    \n",
    "    d = np.zeros((NoCustomers))\n",
    "    for j in range(NoCustomers):\n",
    "        d[j] = get_Dist(ChromoX,ChromoY,Xcord[j],Ycord[j])\n",
    "    \n",
    "    return d"
   ]
  },
  {
   "cell_type": "code",
   "execution_count": null,
   "metadata": {
    "scrolled": true
   },
   "outputs": [],
   "source": [
    "def Evaluation(Xcord, Ycord,Dem,ChromoX,ChromoY,NoCustomers,NoFacil,NoChromo):\n",
    "    \n",
    "    result =np.zeros((NoChromo))\n",
    "    for i in range(NoChromo):\n",
    "        d = np.zeros((NoCustomers,NoFacil))\n",
    "        proximity = np.zeros((NoCustomers))\n",
    "        \n",
    "        for j in range(NoFacil):\n",
    "            A =np.array((Xcord,Ycord))\n",
    "            B = np.array((ChromoX[i,j],ChromoY[i,j]))\n",
    "            A = np.reshape(A,(2,NoCustomers))\n",
    "            B = np.reshape(B,(2,1))\n",
    "            d[:,j]=np.linalg.norm((A-B),axis=0)\n",
    "                \n",
    "                #Facil_distance(Xcord,Ycord,ChromoX[i,j],ChromoY[i,j],NoCustomers)\n",
    "        \n",
    "        result[i]=(np.sum(np.multiply(d.min(axis = 1),Dem.T)))\n",
    "        proximity=(d.argmin(axis=1))\n",
    "\n",
    "    return result"
   ]
  },
  {
   "cell_type": "code",
   "execution_count": null,
   "metadata": {
    "scrolled": true
   },
   "outputs": [],
   "source": [
    "def Weiszfeld(Xcord,Ycord,Xcenter,Ycenter,NoCustomers,Dem):\n",
    "    \n",
    "    improv = 1 \n",
    "    epsilon = 10**(-2)\n",
    "    itermax = 5\n",
    "    \n",
    "    Cost = (np.sum(np.multiply(Facil_distance(Xcord,Ycord,Xcenter,Ycenter,NoCustomers),Dem.T)))\n",
    "    iterat = 0\n",
    "    while ((improv>epsilon) and (iterat <itermax)):\n",
    "        iterat=iterat+1\n",
    "        x = 0\n",
    "        y = 0\n",
    "        W = 0\n",
    "        d = np.zeros((NoCustomers))\n",
    "        for j in range(NoCustomers):\n",
    "            d[j] = get_Dist(Xcenter,Ycenter,Xcord[j],Ycord[j])\n",
    "            if (d[j]!=0):\n",
    "                w = (1/d[j])*(1/Dem[j])\n",
    "                x = x+Xcord[j]*w\n",
    "                y = y+Ycord[j]*w\n",
    "                W = W +w\n",
    "        \n",
    "        if (W!=0):\n",
    "            X = x/W\n",
    "            Y = y/W\n",
    "        else:\n",
    "            X = x\n",
    "            Y=y\n",
    "        New_Cost = (np.sum(np.multiply(Facil_distance(Xcord,Ycord,X,Y,NoCustomers),Dem.T)))\n",
    "        improv = Cost - New_Cost\n",
    "        if (improv>epsilon):\n",
    "            Cost = New_Cost\n",
    "            Xcenter = X\n",
    "            Ycenter = Y\n",
    "    \n",
    "    return Xcenter,Ycenter\n",
    "    "
   ]
  },
  {
   "cell_type": "code",
   "execution_count": null,
   "metadata": {
    "scrolled": true
   },
   "outputs": [],
   "source": [
    "def Cooper_Algorithm(Xcord,Ycord,ChromoX,ChromoY,NoCustomers,NoFacil,Dem):\n",
    "    \n",
    "    epsilon = 10**-2\n",
    "    improvement = 1\n",
    "    d = np.zeros((NoCustomers,NoFacil))\n",
    "    proximity = np.zeros((NoCustomers))\n",
    "\n",
    "    for i in range(NoFacil):\n",
    "            A =np.array((Xcord,Ycord))\n",
    "            B = np.array((ChromoX[i],ChromoY[i]))\n",
    "            A = np.reshape(A,(2,NoCustomers))\n",
    "            B = np.reshape(B,(2,1))\n",
    "            d[:,i]=np.linalg.norm((A-B),axis=0)\n",
    "                \n",
    "        \n",
    "    Cost=(np.sum(np.multiply(d.min(axis = 1),Dem.T)))\n",
    "    proximity=(d.argmin(axis=1))\n",
    "    \n",
    "    tmpX = np.copy(ChromoX)\n",
    "    tmpY = np.copy(ChromoY)\n",
    "\n",
    "\n",
    "    while (improvement>epsilon):\n",
    "        \n",
    "        for j in range(NoFacil):\n",
    "            #print(tmpX[j],tmpY[j])\n",
    "            tmpX[j],tmpY[j] = Weiszfeld(Xcord[proximity==j],Ycord[proximity==j],tmpX[j],tmpY[j],sum(proximity==j),Dem[proximity==j])\n",
    "            #print(tmpX[j],tmpY[j])\n",
    "        \n",
    "        d = np.zeros((NoCustomers,NoFacil))\n",
    "        proximity = np.zeros((NoCustomers))\n",
    "        for i in range(NoFacil):\n",
    "            A =np.array((Xcord,Ycord))\n",
    "            B = np.array((ChromoX[i],ChromoY[i]))\n",
    "            A = np.reshape(A,(2,NoCustomers))\n",
    "            B = np.reshape(B,(2,1))\n",
    "            d[:,i]=np.linalg.norm((A-B),axis=0)\n",
    "        \n",
    "        New_Cost=(np.sum(np.multiply(d.min(axis = 1),Dem.T)))\n",
    "        proximity=(d.argmin(axis=1))\n",
    "        improvement = Cost - New_Cost\n",
    "        Cost=New_Cost\n",
    "\n",
    "    return Cost, tmpX,tmpY"
   ]
  },
  {
   "cell_type": "code",
   "execution_count": null,
   "metadata": {
    "scrolled": true
   },
   "outputs": [],
   "source": [
    "def Cooper_Evaluation(Xcord, Ycord,Dem,ChromoX,ChromoY,NoCustomers,NoFacil,NoChromo):\n",
    "    \n",
    "    \n",
    "    \n",
    "    z1 = np.zeros((NoChromo))\n",
    "    tmpX = np.copy(ChromoX)\n",
    "    tmpY = np.copy(ChromoY)\n",
    "    \n",
    "    t0 = time.time()\n",
    "    for i in range(NoChromo):\n",
    "        z1[i],tmpX[i],tmpY[i] = Cooper_Algorithm(Xcord,Ycord,ChromoX[i],ChromoY[i],NoCustomers,NoFacil,Demand)\n",
    "        #if i % 10 ==0:\n",
    "         #   print(i)\n",
    "            \n",
    "    t1 = time.time()  \n",
    "    #print(t1-t0)\n",
    "    return z1,tmpX,tmpY"
   ]
  },
  {
   "cell_type": "code",
   "execution_count": null,
   "metadata": {
    "scrolled": true
   },
   "outputs": [],
   "source": [
    "def SimpleCrossover(Xcord, Ycord,Dem,ChromoX,ChromoY,NoCustomers,NoFacil,NoChromo,NoCross):\n",
    "    \n",
    "    \n",
    "    CrossX = np.zeros((NoCross,ChromoX.shape[1]))\n",
    "    CrossY = np.zeros((NoCross,ChromoY.shape[1]))\n",
    "    \n",
    "    \n",
    "    for i in range(NoCross):\n",
    "        chromo1 = random.randint(0,NoChromo-1)                         ## First parent\n",
    "        chromo2 = random.randint(0,NoChromo-1)                         ## Second parent\n",
    " \n",
    "        cut = random.randint(0,NoFacil-1)                              ##Cut-off point\n",
    "\n",
    "        CrossX[i,0:cut] = np.copy(ChromoX[chromo1,0:cut])\n",
    "        CrossX[i,cut:] = np.copy(ChromoX[chromo2,cut:])\n",
    "    \n",
    "        CrossY[i,0:cut] = np.copy(ChromoY[chromo1,0:cut])\n",
    "        CrossY[i,cut:] = np.copy(ChromoY[chromo2,cut:])\n",
    "        \n",
    "    return CrossX, CrossY"
   ]
  },
  {
   "cell_type": "code",
   "execution_count": null,
   "metadata": {
    "scrolled": true
   },
   "outputs": [],
   "source": [
    "def SimpleMutation(Xcord, Ycord,Dem,ChromoX,ChromoY,NoCustomers,NoFacil,NoChromo,NoMut, mutRate, numbMut):\n",
    "    \n",
    "    \n",
    "    mutX = np.zeros((NoMut,ChromoX.shape[1]))\n",
    "    mutY = np.zeros((NoMut,ChromoY.shape[1]))\n",
    "\n",
    "    \n",
    "    for i in range(NoMut):\n",
    "        chromo = random.randint(0,NoChromo-1)                         ## hromosome to be mutated\n",
    "        mutX[i,:]=np.copy(ChromoX[chromo,:])\n",
    "        mutY[i,:]=np.copy(ChromoY[chromo,:])\n",
    "        \n",
    "        genes = (random.sample(range(0, NoFacil-1), numbMut))\n",
    "        for j in (genes):\n",
    "            mutX[i,j] = np.random.rand()*(max(Xcord)-min(Xcord))\n",
    "            mutY[i,j] = np.random.rand()*(max(Ycord)-min(Ycord))\n",
    "\n",
    "    return mutX, mutY"
   ]
  },
  {
   "cell_type": "code",
   "execution_count": null,
   "metadata": {
    "scrolled": true
   },
   "outputs": [],
   "source": [
    "def SimpleSurvival(ChromoX,ChromoY,fitness, NoRem):\n",
    "    beta = 4    ## Hyperparameter\n",
    "\n",
    "    RemX = np.zeros((NoRem,ChromoX.shape[1]))\n",
    "    RemY = np.zeros((NoRem,ChromoY.shape[1]))\n",
    "    CumFit = np.zeros((fitness.shape))\n",
    "    \n",
    "    Rev = np.exp(-(beta)*fitness/max(fitness))\n",
    "    Tot = np.sum(Rev)\n",
    "    indiv = Rev/Tot\n",
    "    \n",
    "    for i in range(len(fitness)):\n",
    "        if i!=0:\n",
    "            CumFit[i]=CumFit[i-1]+indiv[i]\n",
    "        else:\n",
    "            CumFit[i]=indiv[i]\n",
    "            \n",
    "            \n",
    "    RemX[0,:] = np.copy(ChromoX[np.argmin(fitness)])\n",
    "    RemY[0,:] = np.copy(ChromoY[np.argmin(fitness)])\n",
    "    for j in range(1,NoRem):\n",
    "        ind = np.random.rand()\n",
    "        count = 0\n",
    "        if ind<= CumFit[count]:\n",
    "            RemX[j,:] = np.copy(ChromoX[count])\n",
    "            RemY[j,:] = np.copy(ChromoY[count])\n",
    "        else:\n",
    "            while (ind>CumFit[count]):\n",
    "                if (ind<=CumFit[count+1]):\n",
    "                    RemX[j,:] = np.copy(ChromoX[count+1])\n",
    "                    RemY[j,:] = np.copy(ChromoY[count])\n",
    "                count = count+1\n",
    "        \n",
    "    \n",
    "    return RemX,RemY       "
   ]
  },
  {
   "cell_type": "code",
   "execution_count": null,
   "metadata": {
    "scrolled": true
   },
   "outputs": [],
   "source": [
    "def Initialization(Xcord, Ycord,Demand, NoChromo, NoFacil, NoCustomers, k1 , k2):\n",
    "    \n",
    "    epsilon = 10**(-5)\n",
    "    Xmax = max(Xcord)\n",
    "    Xmin = min(Xcord)\n",
    "    Ymax = max(Ycord)\n",
    "    Ymin = min(Ycord)\n",
    "    \n",
    "    Wx = (Xmax-Xmin)/k1\n",
    "    Wy = (Ymax-Ymin)/k2\n",
    "    \n",
    "\n",
    "    Xgrid = np.zeros((k1+1))\n",
    "    Ygrid = np.zeros((k2+1))\n",
    "    \n",
    "    tmpx = np.zeros((NoChromo,NoFacil))\n",
    "    tmpy = np.zeros((NoChromo,NoFacil))\n",
    "    \n",
    "\n",
    "    Xgrid[0]=Xmin\n",
    "    Ygrid[0]=Ymin\n",
    "    for i in range(1,k1+1):\n",
    "        Xgrid[i] = Xgrid[i-1]+Wx\n",
    "    \n",
    "    for i in range(1,k2+1):\n",
    "        Ygrid[i]=Ygrid[i-1]+Wy\n",
    "    \n",
    "    \n",
    "    BlockDem =np.zeros((k2,k1))\n",
    "    BlockN = np.zeros((k2,k1))\n",
    "    ProbGrid = np.zeros((k2,k1))\n",
    "    \n",
    "    for i in range(k1):\n",
    "        for j in range(k2):\n",
    "            for k in range(NoCustomers):\n",
    "                if (Xcord[k]>=Xgrid[i]) and (Xcord[k]<Xgrid[i+1]+epsilon) and (Ycord[k]>=Ygrid[j]) and (Ycord[k]<Ygrid[j+1]+epsilon):\n",
    "                    BlockDem[j,i] =BlockDem[j,i]+ Demand[k]\n",
    "                    BlockN[j,i] = BlockN[j,i]+1\n",
    "    \n",
    "    for j in range(k2): \n",
    "        for i in range(k1):\n",
    "            if (i==0) and (j==0):\n",
    "                ProbGrid[j,i] = BlockN[j,i]     \n",
    "            else:\n",
    "                if (i==0):\n",
    "                    ProbGrid[j,i] = BlockN[j,i] + ProbGrid[j-1,k1-1]\n",
    "\n",
    "                else:\n",
    "                    ProbGrid[j,i]=BlockN[j,i] + ProbGrid[j,i-1]\n",
    "\n",
    "    \n",
    "    ProbGrid = ProbGrid/np.sum(NoCustomers)\n",
    "    \n",
    "\n",
    "    \n",
    "    \n",
    "    \n",
    "    for k in range(NoChromo):\n",
    "        for n in range(NoFacil):\n",
    "            r1 = np.random.rand(1)\n",
    "            indX = np.zeros((1))\n",
    "            indY = np.zeros((1))\n",
    "            for j in range(k2): \n",
    "                for i in range(k1):\n",
    "                    if i!=0:\n",
    "                        if (r1<=ProbGrid[j,i] and r1 >ProbGrid[j,i-1]):\n",
    "                            indX = i\n",
    "                            indY = j \n",
    "            \n",
    "                    else:\n",
    "                        if (r1<=ProbGrid[j,i] and r1 >ProbGrid[j-1,k1-1]):\n",
    "                            indX = i\n",
    "                            indY = j \n",
    "           \n",
    "\n",
    "            tmpx[k,n] = (Xgrid[int(indX)]+Xgrid[int(indX)+1])/2\n",
    "            tmpy[k,n] = (Ygrid[int(indY)]+Ygrid[int(indY)+1])/2\n",
    "            \n",
    "\n",
    "    return tmpx,tmpy"
   ]
  },
  {
   "cell_type": "code",
   "execution_count": null,
   "metadata": {
    "scrolled": true
   },
   "outputs": [],
   "source": [
    "tmX,tmY=Initialization(Xcord,Ycord,Demand,NoChromo,NoFacil,NoCustomers,25,25)\n",
    "ChromoX = np.random.rand(NoChromo,NoFacil)*(max(Xcord)-min(Xcord))\n",
    "ChromoY = np.random.rand(NoChromo,NoFacil)*(max(Ycord)-min(Ycord))\n",
    "\n",
    "k1,_,_= Cooper_Evaluation(Xcord, Ycord,Demand,ChromoX,ChromoY,NoCustomers,NoFacil,NoChromo)\n",
    "k2,_,_= Cooper_Evaluation(Xcord, Ycord,Demand,tmX,tmY,NoCustomers,NoFacil,NoChromo)\n",
    "print(np.mean(k1),np.mean(k2))"
   ]
  },
  {
   "cell_type": "code",
   "execution_count": null,
   "metadata": {
    "scrolled": true
   },
   "outputs": [],
   "source": [
    "def Grouping (fitness, A1,A2,A3,NoChromo):\n",
    "    \n",
    "    \n",
    "    Group = np.zeros((NoChromo))\n",
    "    \n",
    "    temp = fitness.argsort()\n",
    "    ranks = np.empty_like(temp)\n",
    "    ranks[temp]=np.arange(len(fitness))\n",
    "    \n",
    "    \n",
    "    for j in range(NoChromo):\n",
    "        if ranks[j]<A1:\n",
    "            Group[j]=0\n",
    "        elif ranks[j]<A1+A2:\n",
    "            Group[j] = 1\n",
    "        else:\n",
    "            Group[j] = 2\n",
    "            \n",
    "            \n",
    "    return Group    "
   ]
  },
  {
   "cell_type": "code",
   "execution_count": null,
   "metadata": {
    "scrolled": true
   },
   "outputs": [],
   "source": [
    "def NewSurvival(ChromoX,ChromoY,fitness, NoRem,A1,A2,A3,NoChromo,NoFacil):\n",
    "    \n",
    "    \n",
    "    fit = np.copy(fitness)\n",
    "    tmpx = np.copy(ChromoX)\n",
    "    tmpy = np.copy(ChromoY)\n",
    "    \n",
    "    RemX = np.zeros((NoRem,NoFacil))\n",
    "    RemY = np.zeros((NoRem,NoFacil))\n",
    "    \n",
    "    #print(fit)\n",
    "    \n",
    "    Groups = Grouping(fit,A1,A2,A3,NoChromo)\n",
    "    Xbest = np.copy(ChromoX[np.argmin(fitness)])\n",
    "    Ybest = np.copy(ChromoY[np.argmin(fitness)])\n",
    "\n",
    "    \n",
    "    for j in range(NoChromo-NoRem+1):\n",
    "        Bad = np.sum(fit[Groups==2])\n",
    "        Average = np.sum(fit[Groups==1])\n",
    "        Good = np.sum(fit[Groups==0])\n",
    "    \n",
    "        Tot = Bad+Average+Good\n",
    "\n",
    "    \n",
    "        TH1 = Good/Tot\n",
    "        TH2 = (Good+Average)/Tot\n",
    "    \n",
    "        Rem = np.random.rand()\n",
    "        if (Rem<=TH1):\n",
    "            k = 0\n",
    "        elif(Rem<=TH2):\n",
    "            k=1\n",
    "        else:\n",
    "            k=2\n",
    "    \n",
    "        options = np.array(np.where(Groups==k))\n",
    "        options = options.reshape(options.shape[1],)\n",
    "    \n",
    "        index = np.random.choice(options,1)\n",
    "        fit = np.delete(fit,index)\n",
    "        Groups=np.delete(Groups,index)\n",
    "\n",
    "        tmpx = np.delete(tmpx,index,axis=0)\n",
    "        tmpy = np.delete(tmpy,index,axis=0)\n",
    "\n",
    "\n",
    "    \n",
    "    RemX[0:NoRem-1,:]=tmpx\n",
    "    RemY[0:NoRem-1,:]=tmpy\n",
    "    RemX[NoRem-1,:]=Xbest\n",
    "    RemY[NoRem-1,:]=Ybest\n",
    "\n",
    "    return RemX,RemY"
   ]
  },
  {
   "cell_type": "code",
   "execution_count": null,
   "metadata": {
    "scrolled": true
   },
   "outputs": [],
   "source": []
  },
  {
   "cell_type": "code",
   "execution_count": 46,
   "metadata": {},
   "outputs": [],
   "source": [
    "ChromoX = np.random.rand(NoChromo,NoFacil)*(max(Xcord)-min(Xcord))\n",
    "ChromoY = np.random.rand(NoChromo,NoFacil)*(max(Ycord)-min(Ycord))\n",
    "\n",
    "k1,_,_= Cooper_Evaluation(Xcord, Ycord,Demand,ChromoX,ChromoY,NoCustomers,NoFacil,NoChromo)"
   ]
  },
  {
   "cell_type": "code",
   "execution_count": 64,
   "metadata": {},
   "outputs": [],
   "source": [
    "def NewCrossover(Xcord,Ycord,Demand,ChromoX,ChromoY,NoCustomers,NoFacil,NoChromo,NoCross,A1,A2,A3,fit):\n",
    "     \n",
    "    Groups = Grouping(fit,A1,A2,A3,NoChromo)\n",
    "    \n",
    "    CrossX = np.zeros((NoCross,ChromoX.shape[1]))\n",
    "    CrossY = np.zeros((NoCross,ChromoY.shape[1]))\n",
    "    \n",
    "    for i in range(NoCross):\n",
    "        options = np.array(np.where(Groups==0))\n",
    "        options = options.reshape(options.shape[1],)\n",
    "        chromo1 = np.random.choice(options,1)                          ## First parent\n",
    "                                                                        \n",
    "            \n",
    "            \n",
    "            \n",
    "            \n",
    "        chromo2 = random.randint(0,NoChromo-1)                         ## Second parent\n",
    " \n",
    "        cut = random.randint(0,NoFacil-1)                              ##Cut-off point\n",
    "\n",
    "        CrossX[i,0:cut] = np.copy(ChromoX[chromo1,0:cut])\n",
    "        CrossX[i,cut:] = np.copy(ChromoX[chromo2,cut:])\n",
    "    \n",
    "        CrossY[i,0:cut] = np.copy(ChromoY[chromo1,0:cut])\n",
    "        CrossY[i,cut:] = np.copy(ChromoY[chromo2,cut:])\n",
    "        \n",
    "    return CrossX, CrossY\n",
    "    \n",
    "    \n",
    "    \n",
    "    "
   ]
  },
  {
   "cell_type": "code",
   "execution_count": 65,
   "metadata": {},
   "outputs": [
    {
     "data": {
      "text/plain": [
       "(array([[24.1801597 , 35.64944009, 42.74518757, 52.36696287,  7.80772333,\n",
       "          3.0342269 , 30.43005406, 25.06085552, 11.69322123, 26.89543433,\n",
       "         57.7612316 ,  8.25738449, 43.30978835,  3.61625785, 39.70283379],\n",
       "        [24.02384122, 42.10021352, 25.45481683, 56.36927063, 45.35871682,\n",
       "         55.92159649, 47.62309692, 18.89488278, 51.4134104 ,  6.05174464,\n",
       "         45.43292788, 16.09734193, 14.7765443 , 31.91080824, 10.42814438],\n",
       "        [24.02384122, 42.10021352, 25.45481683, 56.36927063, 45.35871682,\n",
       "         55.92159649, 32.88166766,  0.97219349, 43.74490701,  5.99439817,\n",
       "         48.91103576, 57.19539393, 53.61032937, 48.76050744, 46.40944304],\n",
       "        [32.2631842 ,  8.28604173, 30.3977447 ,  8.78051083, 40.91737097,\n",
       "         13.84737542, 47.38451292, 55.43768954, 29.48457274, 49.82919749,\n",
       "         17.86069925, 36.45428582, 40.14808593, 20.82933236, 18.58780868],\n",
       "        [ 3.84535775,  3.27324106, 12.3967752 , 49.63585538, 42.57050445,\n",
       "         50.90791151, 57.42490857, 55.01846329, 11.42402833, 39.57598277,\n",
       "         55.20118531, 36.60000847,  0.55405558, 52.72225912,  1.18172539],\n",
       "        [24.1801597 , 35.64944009, 42.74518757, 52.36696287,  7.80772333,\n",
       "          3.0342269 , 30.43005406, 57.2426326 , 26.95122044, 40.39402013,\n",
       "          3.05327432, 53.27958261, 36.75176535, 43.92537797, 53.65005071],\n",
       "        [48.72885101, 28.98356513, 42.94676146, 38.51720881, 30.49756854,\n",
       "         33.2179099 , 54.09244701, 39.21968833,  6.44673323, 20.19273955,\n",
       "         48.68524901, 49.60871593, 55.17137142, 15.42714442, 30.07465668],\n",
       "        [ 7.02750686, 11.96524458, 11.79140414, 11.55434796, 17.16436149,\n",
       "          1.44368709, 55.38223387, 44.19429282, 35.96781369, 20.83755067,\n",
       "          8.9704508 , 57.92909172, 17.10302032, 37.91375953, 41.52977432],\n",
       "        [ 4.833212  , 39.22032716, 35.02461427, 32.65458317,  4.81741488,\n",
       "         52.94109294, 56.31588131, 33.42873731, 11.52295731, 30.45131955,\n",
       "         37.19462576, 49.55130203, 46.555153  , 33.7159616 , 54.22731289],\n",
       "        [ 8.4638099 ,  7.29639156, 52.44424507, 11.1022526 , 41.22838426,\n",
       "          0.76342449,  0.77396063, 55.28153653,  6.68204592, 49.25712697,\n",
       "         14.42374518,  1.74705109, 22.78539034, 35.37819538, 40.90984071],\n",
       "        [39.30945474, 49.73989824, 30.18602323, 37.1597894 , 57.62501167,\n",
       "         35.61114944, 32.65942593, 12.81735076, 11.05218607, 28.98187454,\n",
       "         32.83579618,  4.93867624, 53.15167612, 26.30077342, 46.30189281],\n",
       "        [ 9.7733268 , 27.87906267,  0.27950281, 24.31416147, 37.9223734 ,\n",
       "         14.19409448,  5.36955849, 43.76264976, 47.68564331, 57.17808225,\n",
       "         48.39190565, 19.94246015,  4.83080601, 43.50428834,  0.72520546],\n",
       "        [ 9.7733268 , 27.87906267,  0.27950281, 30.88173136, 29.32851912,\n",
       "         24.15679884, 24.59082556, 25.06085552, 11.69322123, 26.89543433,\n",
       "         57.7612316 ,  8.25738449, 43.30978835,  3.61625785, 39.70283379],\n",
       "        [ 7.03028881, 28.52769444, 26.54399317, 36.50683315, 20.13256931,\n",
       "          9.80269713, 12.86067078,  3.02414672, 31.6447637 ,  1.01999113,\n",
       "         36.23972723, 53.53387753,  0.73786149, 31.65120885,  0.42054102],\n",
       "        [50.6776475 , 10.1382269 , 20.64966344, 41.1781426 , 37.2648846 ,\n",
       "         42.34328937,  5.88191538, 35.01287847, 23.05877177, 21.39794692,\n",
       "         13.18926073, 52.16093784, 16.08890897, 20.80745342, 37.65204638],\n",
       "        [28.58359532, 39.27804309, 44.64767748, 26.57824375,  6.25567065,\n",
       "         35.24625279, 47.38451292, 55.43768954, 29.48457274, 49.82919749,\n",
       "         17.86069925, 36.45428582, 40.14808593, 13.1611508 , 33.94518485],\n",
       "        [37.81225369, 43.79298024,  7.34078874, 15.29484037, 44.9859493 ,\n",
       "         50.75730477, 48.60505145, 21.43404663, 54.06635085,  7.3262608 ,\n",
       "         35.03700114, 21.09049919,  7.59868291, 20.91443058, 15.32121223],\n",
       "        [ 7.03028881, 28.52769444, 26.54399317, 36.50683315, 20.13256931,\n",
       "          9.80269713, 56.31588131, 33.42873731, 11.52295731, 30.45131955,\n",
       "         37.19462576,  7.54781748, 11.71118883, 19.29996074,  0.49928691],\n",
       "        [42.7231605 ,  9.36201364, 18.08938707, 34.58625244, 32.34613573,\n",
       "         13.93110644,  2.90580817, 49.12763263,  0.26990492, 46.73751418,\n",
       "          7.35680877, 49.59013801, 57.8493812 , 41.92074615, 52.39050032],\n",
       "        [ 4.8735742 , 54.48871261, 26.70682716, 35.79002141, 11.95816455,\n",
       "         39.12147623, 22.32964076, 27.35268191, 44.11021716, 37.009927  ,\n",
       "         18.24455223, 21.09049919,  7.59868291, 20.91443058, 15.32121223]]),\n",
       " array([[11.92222051,  2.86712954, 34.72398539, 29.04645396, 32.44010371,\n",
       "          1.71849351, 20.32705837,  9.58990145,  7.54198049, 43.86222914,\n",
       "         34.43456289, 17.87664313, 45.53189668,  6.49538833, 50.8878103 ],\n",
       "        [ 8.24372868, 29.53453546, 27.19750112,  8.75643381,  5.29847434,\n",
       "         27.0917488 , 21.41899561, 39.8733383 ,  2.74844582, 57.36457635,\n",
       "         40.05783204, 40.14607405, 25.53939499, 16.59349831, 49.95737494],\n",
       "        [ 8.24372868, 29.53453546, 27.19750112,  8.75643381,  5.29847434,\n",
       "         27.0917488 , 46.53366141, 24.55460781,  7.39642649, 56.9561654 ,\n",
       "          8.99018159, 44.88765409, 34.24436174,  4.22056421, 28.70358874],\n",
       "        [35.14528247, 53.12275678, 39.1562046 , 61.78985947, 61.01130071,\n",
       "         17.36546348, 41.40651374, 55.90176684, 56.16025683, 48.73612875,\n",
       "          9.56822905,  8.90561263, 43.73751885, 43.67787031, 22.53372086],\n",
       "        [11.91472958,  7.11593864, 35.30944918, 42.42095007, 43.5371224 ,\n",
       "         39.26694423, 43.39981191,  7.51930145, 17.99891578,  2.08912839,\n",
       "         25.94027994, 53.86183448,  5.16443395, 41.3785041 , 46.52513783],\n",
       "        [11.92222051,  2.86712954, 34.72398539, 29.04645396, 32.44010371,\n",
       "          1.71849351, 20.32705837, 53.27495246, 27.1531791 , 11.78892067,\n",
       "         36.68850765, 56.37341132, 48.02079014, 58.29485068, 48.95400035],\n",
       "        [40.30451496, 19.83275266, 61.6159406 ,  4.1252149 , 41.15625344,\n",
       "          1.84627976,  5.36745087, 59.42001713, 14.24391365, 37.64157802,\n",
       "         51.38001982, 34.46512709, 50.57897861, 18.01015305, 27.9183667 ],\n",
       "        [ 7.9663627 ,  1.36006682,  8.12911761, 58.63957138, 31.68856248,\n",
       "         49.81958972, 16.55817219, 15.80278904, 43.72299519, 56.64938877,\n",
       "         55.53417239, 31.32406552, 45.0966576 , 46.58146323, 49.99108187],\n",
       "        [36.55883554, 25.97669955, 40.33389615, 56.27598676,  1.62364259,\n",
       "         49.1408548 ,  0.33362771, 29.43937138, 13.44289601, 12.28805198,\n",
       "         62.44558991, 46.38495397, 18.14925161, 20.81661669, 23.03156261],\n",
       "        [38.51251682, 16.77248986, 18.28229128, 25.58197481, 23.91894019,\n",
       "          8.64169409, 49.90731898, 53.58536869, 50.10212975,  7.2108131 ,\n",
       "         30.71919339, 28.24951525, 50.13571338, 21.91575063, 31.63900178],\n",
       "        [ 2.92942814, 21.82289926, 22.02575128, 35.16772883,  2.78345612,\n",
       "         26.89139043,  6.9727579 , 32.69531746, 41.26621902, 16.59772569,\n",
       "         31.09756383,  6.74033124, 50.79894183, 43.51592859, 47.08737661],\n",
       "        [ 4.37406757, 56.94298674, 31.57634307, 11.78728516, 29.15520012,\n",
       "         18.28546006, 54.75251583, 48.59111792, 49.97696697, 33.11369927,\n",
       "          0.93783597, 10.5977152 ,  4.21078167,  4.11981642, 36.15210049],\n",
       "        [ 4.37406757, 56.94298674, 31.57634307,  8.28793706, 45.81211969,\n",
       "         59.0622672 , 52.22221481,  9.58990145,  7.54198049, 43.86222914,\n",
       "         34.43456289, 17.87664313, 45.53189668,  6.49538833, 50.8878103 ],\n",
       "        [ 9.49231968, 25.56051105, 58.94657957,  1.57808038, 55.59650022,\n",
       "         47.08301298, 35.87693681, 15.5530939 ,  0.36848902, 31.34436427,\n",
       "         12.79006356, 32.25362974, 17.93801916,  3.16937247, 46.27564846],\n",
       "        [24.73619804, 35.8173454 , 51.68561223, 47.14788984, 20.88863047,\n",
       "         23.88507434, 17.55463784, 30.78989231, 58.34131211, 48.55818504,\n",
       "         43.91244957, 51.47175566, 13.86232046, 47.2109829 , 43.93391808],\n",
       "        [41.34520817,  6.81155043, 31.96497981, 38.22267665, 12.30872486,\n",
       "         23.03236168, 41.40651374, 55.90176684, 56.16025683, 48.73612875,\n",
       "          9.56822905,  8.90561263, 43.73751885, 34.10685604, 55.52644446],\n",
       "        [14.63115265,  2.17403182, 46.39034244, 40.90239   , 61.40232269,\n",
       "         13.93691381, 33.79378074, 29.56370553, 26.78665175,  2.40212378,\n",
       "         40.54693523,  3.26562655, 30.0448877 , 17.76178013, 60.49995523],\n",
       "        [ 9.49231968, 25.56051105, 58.94657957,  1.57808038, 55.59650022,\n",
       "         47.08301298,  0.33362771, 29.43937138, 13.44289601, 12.28805198,\n",
       "         62.44558991, 12.96152654, 20.22613334,  9.04193213, 60.56044395],\n",
       "        [57.1288805 , 30.03702655,  4.99469311, 58.91982594,  9.00697768,\n",
       "         26.73362424, 10.13333352, 45.63616085, 27.86094333, 47.86612035,\n",
       "         31.90036786, 22.3685688 , 14.98943489, 26.46623525,  2.7286221 ],\n",
       "        [31.90187266, 16.95392927,  7.01234193, 33.74467059, 58.05618125,\n",
       "         54.44468936, 25.25847737, 13.22610296, 35.5211055 , 62.98127024,\n",
       "         39.07357912,  3.26562655, 30.0448877 , 17.76178013, 60.49995523]]))"
      ]
     },
     "execution_count": 65,
     "metadata": {},
     "output_type": "execute_result"
    }
   ],
   "source": [
    "NewCrossover(Xcord,Ycord,Demand,ChromoX,ChromoY,NoCustomers,NoFacil,NoChromo,NoCross,A1,A2,A3,k1)"
   ]
  },
  {
   "cell_type": "code",
   "execution_count": null,
   "metadata": {},
   "outputs": [],
   "source": []
  },
  {
   "cell_type": "code",
   "execution_count": null,
   "metadata": {},
   "outputs": [],
   "source": []
  },
  {
   "cell_type": "code",
   "execution_count": null,
   "metadata": {},
   "outputs": [],
   "source": []
  },
  {
   "cell_type": "code",
   "execution_count": null,
   "metadata": {
    "scrolled": true
   },
   "outputs": [],
   "source": []
  },
  {
   "cell_type": "code",
   "execution_count": null,
   "metadata": {
    "scrolled": true
   },
   "outputs": [],
   "source": []
  },
  {
   "cell_type": "code",
   "execution_count": null,
   "metadata": {
    "scrolled": true
   },
   "outputs": [],
   "source": []
  },
  {
   "cell_type": "code",
   "execution_count": 72,
   "metadata": {
    "scrolled": true
   },
   "outputs": [
    {
     "name": "stdout",
     "output_type": "stream",
     "text": [
      "0.0  % \n",
      "2.0  % \n",
      "4.0  % \n",
      "6.0  % \n",
      "8.0  % \n",
      "10.0  % \n",
      "12.0  % \n",
      "14.0  % \n",
      "16.0  % \n",
      "18.0  % \n",
      "20.0  % \n",
      "22.0  % \n",
      "24.0  % \n",
      "26.0  % \n",
      "28.0  % \n",
      "30.0  % \n",
      "32.0  % \n",
      "34.0  % \n",
      "36.0  % \n",
      "38.0  % \n",
      "40.0  % \n",
      "42.0  % \n",
      "44.0  % \n",
      "46.0  % \n",
      "48.0  % \n",
      "50.0  % \n",
      "52.0  % \n",
      "54.0  % \n",
      "56.0  % \n",
      "58.0  % \n",
      "60.0  % \n",
      "62.0  % \n",
      "64.0  % \n",
      "66.0  % \n",
      "68.0  % \n",
      "70.0  % \n",
      "72.0  % \n",
      "74.0  % \n",
      "76.0  % \n",
      "78.0  % \n",
      "80.0  % \n",
      "82.0  % \n",
      "84.0  % \n",
      "86.0  % \n",
      "88.0  % \n",
      "90.0  % \n",
      "92.0  % \n",
      "94.0  % \n",
      "96.0  % \n",
      "98.0  % \n"
     ]
    }
   ],
   "source": [
    "#ChromoX = np.random.rand(NoChromo,NoFacil)*(max(Xcord)-min(Xcord))\n",
    "#ChromoY = np.random.rand(NoChromo,NoFacil)*(max(Ycord)-min(Ycord))\n",
    "\n",
    "ChromoX,ChromoY=Initialization(Xcord,Ycord,Demand,NoChromo,NoFacil,NoCustomers,25,25)\n",
    "\n",
    "MinCost = np.zeros((NumberIter))\n",
    "\n",
    "Fitness = np.zeros((NoChromo))\n",
    "\n",
    "\n",
    "for it in range(NumberIter):\n",
    "    \n",
    "    print(100*it/NumberIter, \" % \")\n",
    "    \n",
    "    ##Evaluation\n",
    "    #Cost = Evaluation1(Xcord,Ycord,Demand,ChromoX,ChromoY,NoCustomers,NoFacil,NoChromo)\n",
    "    Fitness,ChromoX,ChromoY=Cooper_Evaluation(Xcord, Ycord,Dem,ChromoX,ChromoY,NoCustomers,NoFacil,NoChromo)\n",
    "    MinCost[it]=(np.min(Fitness))\n",
    "\n",
    "    \n",
    "    ##Crossover\n",
    "    CrossX = np.zeros((NoCross,ChromoX.shape[1]))\n",
    "    CrossY = np.zeros((NoCross,ChromoY.shape[1]))\n",
    "\n",
    "    #CrossX,CrossY = SimpleCrossover(Xcord,Ycord,Demand,ChromoX,ChromoY,NoCustomers,NoFacil,NoChromo,NoCross)\n",
    "    CrossX,CrossY = NewCrossover(Xcord,Ycord,Demand,ChromoX,ChromoY,NoCustomers,NoFacil,NoChromo,NoCross,A1,A2,A3,Fitness)\n",
    "    \n",
    "    ## Mutation\n",
    "    mutX = np.zeros((NoMut,ChromoX.shape[1]))\n",
    "    mutY = np.zeros((NoMut,ChromoY.shape[1]))\n",
    "\n",
    "    mutX,mutY =SimpleMutation(Xcord,Ycord,Demand,ChromoX,ChromoY,NoCustomers,NoFacil,NoChromo,NoMut,mutRate,numbMut)\n",
    "    \n",
    "    \n",
    "    ## Survival\n",
    "    remX = np.zeros((NoRem,ChromoX.shape[1]))\n",
    "    remY = np.zeros((NoRem,ChromoY.shape[1]))\n",
    "    \n",
    "    #remX,remY = SimpleSurvival(ChromoX,ChromoY,Fitness,NoRem)\n",
    "    remX,remY = NewSurvival(ChromoX,ChromoY,Fitness,NoRem,A1,A2,A3,NoChromo,NoFacil)\n",
    "    \n",
    "    ##Population assembly\n",
    "    ChromoX[0:NoCross,:] = np.copy(CrossX[:,:])\n",
    "    ChromoX[NoCross:NoCross+NoMut,:]=np.copy(mutX[:,:])\n",
    "    ChromoX[NoCross+NoMut:,:]=np.copy(remX[:,:])\n",
    "    \n",
    "\n",
    "    ChromoY[0:NoCross,:] = np.copy(CrossY[:,:])\n",
    "    ChromoY[NoCross:NoCross+NoMut,:]=np.copy(mutY[:,:])\n",
    "    ChromoY[NoCross+NoMut:,:]=np.copy(remY[:,:])\n",
    "\n",
    "\n",
    "\n",
    "\n",
    "\n",
    "\n"
   ]
  },
  {
   "cell_type": "code",
   "execution_count": 73,
   "metadata": {
    "scrolled": true
   },
   "outputs": [
    {
     "name": "stdout",
     "output_type": "stream",
     "text": [
      "[4911.68584958 4812.62295365 4449.99381236 4360.03132055 4194.11890173\n",
      " 4192.43515122 4192.36294408 4192.36294408 4192.36294408 4192.36294408\n",
      " 4192.36294408 4192.36294408 4192.36294408 4192.36294408 4192.36294408\n",
      " 4192.36294408 4192.36294408 4192.36294408 4092.5527818  4071.49584435\n",
      " 4071.49584435 4071.49584435 3951.56709796 3951.56709796 3951.56709796\n",
      " 3951.56709796 3916.96621815 3907.08129666 3907.08129666 3907.08129666\n",
      " 3907.08129666 3907.08129666 3907.08129666 3907.08129666 3907.08129666\n",
      " 3907.08129666 3907.08129666 3907.08129666 3907.08129666 3907.08129666\n",
      " 3907.08129666 3907.08129666 3907.08129666 3907.08129666 3907.08129666\n",
      " 3907.08129666 3907.08129666 3907.08129666 3907.08129666 3907.08129666]\n"
     ]
    },
    {
     "data": {
      "text/plain": [
       "[<matplotlib.lines.Line2D at 0x25fbb6b5be0>]"
      ]
     },
     "execution_count": 73,
     "metadata": {},
     "output_type": "execute_result"
    },
    {
     "data": {
      "image/png": "[encoded data removed]",
      "text/plain": [
       "<Figure size 432x288 with 1 Axes>"
      ]
     },
     "metadata": {
      "needs_background": "light"
     },
     "output_type": "display_data"
    }
   ],
   "source": [
    "print(MinCost)\n",
    "plt.plot(MinCost)"
   ]
  },
  {
   "cell_type": "code",
   "execution_count": null,
   "metadata": {},
   "outputs": [],
   "source": []
  },
  {
   "cell_type": "code",
   "execution_count": null,
   "metadata": {},
   "outputs": [],
   "source": [
    "3858.98525239"
   ]
  },
  {
   "cell_type": "code",
   "execution_count": null,
   "metadata": {},
   "outputs": [],
   "source": [
    "3938.16146475"
   ]
  },
  {
   "cell_type": "code",
   "execution_count": null,
   "metadata": {
    "scrolled": true
   },
   "outputs": [],
   "source": [
    "print(MinCost)\n",
    "plt.plot(MinCost)"
   ]
  }
 ],
 "metadata": {
  "kernelspec": {
   "display_name": "Python 3",
   "language": "python",
   "name": "python3"
  },
  "language_info": {
   "codemirror_mode": {
    "name": "ipython",
    "version": 3
   },
   "file_extension": ".py",
   "mimetype": "text/x-python",
   "name": "python",
   "nbconvert_exporter": "python",
   "pygments_lexer": "ipython3",
   "version": "3.6.5"
  },
  "varInspector": {
   "cols": {
    "lenName": 16,
    "lenType": 16,
    "lenVar": 40
   },
   "kernels_config": {
    "python": {
     "delete_cmd_postfix": "",
     "delete_cmd_prefix": "del ",
     "library": "var_list.py",
     "varRefreshCmd": "print(var_dic_list())"
    },
    "r": {
     "delete_cmd_postfix": ") ",
     "delete_cmd_prefix": "rm(",
     "library": "var_list.r",
     "varRefreshCmd": "cat(var_dic_list()) "
    }
   },
   "types_to_exclude": [
    "module",
    "function",
    "builtin_function_or_method",
    "instance",
    "_Feature"
   ],
   "window_display": false
  }
 },
 "nbformat": 4,
 "nbformat_minor": 4
}
